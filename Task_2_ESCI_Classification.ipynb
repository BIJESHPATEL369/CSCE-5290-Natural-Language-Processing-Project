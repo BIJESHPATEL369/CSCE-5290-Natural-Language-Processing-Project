{
  "nbformat": 4,
  "nbformat_minor": 0,
  "metadata": {
    "colab": {
      "name": "Task 1_ESCI_Classification.ipynb",
      "provenance": [],
      "collapsed_sections": [],
      "machine_shape": "hm"
    },
    "kernelspec": {
      "name": "python3",
      "display_name": "Python 3"
    },
    "language_info": {
      "name": "python"
    },
    "accelerator": "GPU"
  },
  "cells": [
    {
      "cell_type": "markdown",
      "source": [
        "# Task 2 : MULTICLASS PRODUCT CLASSIFICATION"
      ],
      "metadata": {
        "id": "_EQyIRSx-Did"
      }
    },
    {
      "cell_type": "markdown",
      "source": [
        "# Install Packages"
      ],
      "metadata": {
        "id": "ev4JvjkMIcfA"
      }
    },
    {
      "cell_type": "markdown",
      "source": [
        "NLTK package to dowload the stop words, import PorterStemmer."
      ],
      "metadata": {
        "id": "wCVC7_2Of2hA"
      }
    },
    {
      "cell_type": "code",
      "source": [
        "!pip install nltk"
      ],
      "metadata": {
        "id": "hyO-Yq97AmSA"
      },
      "execution_count": null,
      "outputs": []
    },
    {
      "cell_type": "markdown",
      "source": [
        "Tensor flow to downlad the Universel sentence encoder for embedding the text."
      ],
      "metadata": {
        "id": "moLCR2zVgceu"
      }
    },
    {
      "cell_type": "code",
      "source": [
        "!pip install tensorflow_text "
      ],
      "metadata": {
        "id": "3yYtQfEgBH56"
      },
      "execution_count": null,
      "outputs": []
    },
    {
      "cell_type": "markdown",
      "source": [
        "# Import Libraries"
      ],
      "metadata": {
        "id": "RCTgrVr2HC_Q"
      }
    },
    {
      "cell_type": "code",
      "execution_count": null,
      "metadata": {
        "id": "n-19OA1e4Rwp"
      },
      "outputs": [],
      "source": [
        "import pandas as pd\n",
        "import re\n",
        "import string \n",
        "import numpy as np\n",
        "\n",
        "# pre-processing the input features\n",
        "import nltk\n",
        "from nltk.corpus import stopwords\n",
        "nltk.download('stopwords')\n",
        "from nltk.stem import PorterStemmer\n",
        "\n",
        "#convert the string text to vector representation\n",
        "import tensorflow_hub as hub\n",
        "import tensorflow_text\n",
        "from sklearn.compose import ColumnTransformer\n",
        "from sklearn.feature_extraction.text import TfidfVectorizer\n",
        "import tensorflow as tf\n",
        "\n",
        "# To create traning and test dataset\n",
        "from sklearn.model_selection import train_test_split\n",
        "\n",
        "# Loading the model\n",
        "from sklearn.ensemble import RandomForestClassifier\n",
        "\n",
        "# Evaluate the model accuaracy\n",
        "from sklearn.metrics import accuracy_score, classification_report\n",
        "\n",
        "# Ploting the data analyisis\n",
        "import matplotlib.pyplot as plt"
      ]
    },
    {
      "cell_type": "markdown",
      "source": [
        "# Loading Data sets"
      ],
      "metadata": {
        "id": "EnMAj33yHATR"
      }
    },
    {
      "cell_type": "markdown",
      "source": [
        "Reading the Product catalog and train data datasets"
      ],
      "metadata": {
        "id": "FnPtPRNpOy_4"
      }
    },
    {
      "cell_type": "code",
      "source": [
        "product_catalog_pd = pd.read_csv('/content/drive/MyDrive/Amazon Shopping Queries Dataset/ Task 2: Multiclass Product Classification/product_catalogue-v0.1.csv')\n",
        "train_pd = pd.read_csv('/content/drive/MyDrive/Amazon Shopping Queries Dataset/ Task 2: Multiclass Product Classification/train-v0.1.csv')"
      ],
      "metadata": {
        "id": "wYc6uYDR4-j4"
      },
      "execution_count": 4,
      "outputs": []
    },
    {
      "cell_type": "code",
      "source": [
        "product_catalog_pd[\"product_locale\"].unique()"
      ],
      "metadata": {
        "colab": {
          "base_uri": "https://localhost:8080/"
        },
        "id": "eFV1H_tAjTgo",
        "outputId": "be69cbaf-71c3-4404-b102-3821002457c7"
      },
      "execution_count": 5,
      "outputs": [
        {
          "output_type": "execute_result",
          "data": {
            "text/plain": [
              "array(['es', 'us', 'jp'], dtype=object)"
            ]
          },
          "metadata": {},
          "execution_count": 5
        }
      ]
    },
    {
      "cell_type": "markdown",
      "source": [
        "Select 'US' Locale from both train and product catalog dataset"
      ],
      "metadata": {
        "id": "VUuGsZOOOiQb"
      }
    },
    {
      "cell_type": "code",
      "source": [
        "us_product_catalog_pd = product_catalog_pd.loc[product_catalog_pd['product_locale'] == 'us']\n",
        "us_train_pd = train_pd.loc[train_pd['query_locale'] == 'us']"
      ],
      "metadata": {
        "id": "YbzE8jEhCllz"
      },
      "execution_count": 6,
      "outputs": []
    },
    {
      "cell_type": "markdown",
      "source": [
        "# Data Description"
      ],
      "metadata": {
        "id": "zuFbg5YyG3GU"
      }
    },
    {
      "cell_type": "markdown",
      "source": [
        "**Product Catalog dataset**"
      ],
      "metadata": {
        "id": "GdtOmV1niL_v"
      }
    },
    {
      "cell_type": "code",
      "source": [
        "us_product_catalog_pd.head(3)"
      ],
      "metadata": {
        "colab": {
          "base_uri": "https://localhost:8080/",
          "height": 240
        },
        "id": "XQHhSJE55lz4",
        "outputId": "6a01c619-85d5-40d3-fb8a-1e33f63a6251"
      },
      "execution_count": 87,
      "outputs": [
        {
          "output_type": "execute_result",
          "data": {
            "text/plain": [
              "        product_id                                      product_title  \\\n",
              "167236  B003O0MNGC  Delta BreezSignature VFB25ACH 80 CFM Exhaust B...   \n",
              "167237  B00MARNO5Y  Aero Pure AP80RVLW Super Quiet 80 CFM Recessed...   \n",
              "167238  B011RX6PNO  Aero Pure AP120H-SL W Slim Fit 120 CFM Bathroo...   \n",
              "\n",
              "       product_description                               product_bullet_point  \\\n",
              "167236                 NaN  Virtually silent at less than 0.3 sones\\nPreci...   \n",
              "167237                 NaN  Super quiet 80CFM energy efficient fan virtual...   \n",
              "167238                 NaN  Slim Fit Housing Fits Into 2\" X 6\" Ceiling Joi...   \n",
              "\n",
              "                            product_brand product_color_name product_locale  \n",
              "167236  DELTA ELECTRONICS (AMERICAS) LTD.              White             us  \n",
              "167237                          Aero Pure              White             us  \n",
              "167238                          Aero Pure       White Finish             us  "
            ],
            "text/html": [
              "\n",
              "  <div id=\"df-69ebfb43-56ff-4a15-9694-b8f6d32ba6c5\">\n",
              "    <div class=\"colab-df-container\">\n",
              "      <div>\n",
              "<style scoped>\n",
              "    .dataframe tbody tr th:only-of-type {\n",
              "        vertical-align: middle;\n",
              "    }\n",
              "\n",
              "    .dataframe tbody tr th {\n",
              "        vertical-align: top;\n",
              "    }\n",
              "\n",
              "    .dataframe thead th {\n",
              "        text-align: right;\n",
              "    }\n",
              "</style>\n",
              "<table border=\"1\" class=\"dataframe\">\n",
              "  <thead>\n",
              "    <tr style=\"text-align: right;\">\n",
              "      <th></th>\n",
              "      <th>product_id</th>\n",
              "      <th>product_title</th>\n",
              "      <th>product_description</th>\n",
              "      <th>product_bullet_point</th>\n",
              "      <th>product_brand</th>\n",
              "      <th>product_color_name</th>\n",
              "      <th>product_locale</th>\n",
              "    </tr>\n",
              "  </thead>\n",
              "  <tbody>\n",
              "    <tr>\n",
              "      <th>167236</th>\n",
              "      <td>B003O0MNGC</td>\n",
              "      <td>Delta BreezSignature VFB25ACH 80 CFM Exhaust B...</td>\n",
              "      <td>NaN</td>\n",
              "      <td>Virtually silent at less than 0.3 sones\\nPreci...</td>\n",
              "      <td>DELTA ELECTRONICS (AMERICAS) LTD.</td>\n",
              "      <td>White</td>\n",
              "      <td>us</td>\n",
              "    </tr>\n",
              "    <tr>\n",
              "      <th>167237</th>\n",
              "      <td>B00MARNO5Y</td>\n",
              "      <td>Aero Pure AP80RVLW Super Quiet 80 CFM Recessed...</td>\n",
              "      <td>NaN</td>\n",
              "      <td>Super quiet 80CFM energy efficient fan virtual...</td>\n",
              "      <td>Aero Pure</td>\n",
              "      <td>White</td>\n",
              "      <td>us</td>\n",
              "    </tr>\n",
              "    <tr>\n",
              "      <th>167238</th>\n",
              "      <td>B011RX6PNO</td>\n",
              "      <td>Aero Pure AP120H-SL W Slim Fit 120 CFM Bathroo...</td>\n",
              "      <td>NaN</td>\n",
              "      <td>Slim Fit Housing Fits Into 2\" X 6\" Ceiling Joi...</td>\n",
              "      <td>Aero Pure</td>\n",
              "      <td>White Finish</td>\n",
              "      <td>us</td>\n",
              "    </tr>\n",
              "  </tbody>\n",
              "</table>\n",
              "</div>\n",
              "      <button class=\"colab-df-convert\" onclick=\"convertToInteractive('df-69ebfb43-56ff-4a15-9694-b8f6d32ba6c5')\"\n",
              "              title=\"Convert this dataframe to an interactive table.\"\n",
              "              style=\"display:none;\">\n",
              "        \n",
              "  <svg xmlns=\"http://www.w3.org/2000/svg\" height=\"24px\"viewBox=\"0 0 24 24\"\n",
              "       width=\"24px\">\n",
              "    <path d=\"M0 0h24v24H0V0z\" fill=\"none\"/>\n",
              "    <path d=\"M18.56 5.44l.94 2.06.94-2.06 2.06-.94-2.06-.94-.94-2.06-.94 2.06-2.06.94zm-11 1L8.5 8.5l.94-2.06 2.06-.94-2.06-.94L8.5 2.5l-.94 2.06-2.06.94zm10 10l.94 2.06.94-2.06 2.06-.94-2.06-.94-.94-2.06-.94 2.06-2.06.94z\"/><path d=\"M17.41 7.96l-1.37-1.37c-.4-.4-.92-.59-1.43-.59-.52 0-1.04.2-1.43.59L10.3 9.45l-7.72 7.72c-.78.78-.78 2.05 0 2.83L4 21.41c.39.39.9.59 1.41.59.51 0 1.02-.2 1.41-.59l7.78-7.78 2.81-2.81c.8-.78.8-2.07 0-2.86zM5.41 20L4 18.59l7.72-7.72 1.47 1.35L5.41 20z\"/>\n",
              "  </svg>\n",
              "      </button>\n",
              "      \n",
              "  <style>\n",
              "    .colab-df-container {\n",
              "      display:flex;\n",
              "      flex-wrap:wrap;\n",
              "      gap: 12px;\n",
              "    }\n",
              "\n",
              "    .colab-df-convert {\n",
              "      background-color: #E8F0FE;\n",
              "      border: none;\n",
              "      border-radius: 50%;\n",
              "      cursor: pointer;\n",
              "      display: none;\n",
              "      fill: #1967D2;\n",
              "      height: 32px;\n",
              "      padding: 0 0 0 0;\n",
              "      width: 32px;\n",
              "    }\n",
              "\n",
              "    .colab-df-convert:hover {\n",
              "      background-color: #E2EBFA;\n",
              "      box-shadow: 0px 1px 2px rgba(60, 64, 67, 0.3), 0px 1px 3px 1px rgba(60, 64, 67, 0.15);\n",
              "      fill: #174EA6;\n",
              "    }\n",
              "\n",
              "    [theme=dark] .colab-df-convert {\n",
              "      background-color: #3B4455;\n",
              "      fill: #D2E3FC;\n",
              "    }\n",
              "\n",
              "    [theme=dark] .colab-df-convert:hover {\n",
              "      background-color: #434B5C;\n",
              "      box-shadow: 0px 1px 3px 1px rgba(0, 0, 0, 0.15);\n",
              "      filter: drop-shadow(0px 1px 2px rgba(0, 0, 0, 0.3));\n",
              "      fill: #FFFFFF;\n",
              "    }\n",
              "  </style>\n",
              "\n",
              "      <script>\n",
              "        const buttonEl =\n",
              "          document.querySelector('#df-69ebfb43-56ff-4a15-9694-b8f6d32ba6c5 button.colab-df-convert');\n",
              "        buttonEl.style.display =\n",
              "          google.colab.kernel.accessAllowed ? 'block' : 'none';\n",
              "\n",
              "        async function convertToInteractive(key) {\n",
              "          const element = document.querySelector('#df-69ebfb43-56ff-4a15-9694-b8f6d32ba6c5');\n",
              "          const dataTable =\n",
              "            await google.colab.kernel.invokeFunction('convertToInteractive',\n",
              "                                                     [key], {});\n",
              "          if (!dataTable) return;\n",
              "\n",
              "          const docLinkHtml = 'Like what you see? Visit the ' +\n",
              "            '<a target=\"_blank\" href=https://colab.research.google.com/notebooks/data_table.ipynb>data table notebook</a>'\n",
              "            + ' to learn more about interactive tables.';\n",
              "          element.innerHTML = '';\n",
              "          dataTable['output_type'] = 'display_data';\n",
              "          await google.colab.output.renderOutput(dataTable, element);\n",
              "          const docLink = document.createElement('div');\n",
              "          docLink.innerHTML = docLinkHtml;\n",
              "          element.appendChild(docLink);\n",
              "        }\n",
              "      </script>\n",
              "    </div>\n",
              "  </div>\n",
              "  "
            ]
          },
          "metadata": {},
          "execution_count": 87
        }
      ]
    },
    {
      "cell_type": "markdown",
      "source": [
        "**Train dataset**"
      ],
      "metadata": {
        "id": "nJlhRJeim_y5"
      }
    },
    {
      "cell_type": "code",
      "source": [
        "us_train_pd.head(5)"
      ],
      "metadata": {
        "colab": {
          "base_uri": "https://localhost:8080/",
          "height": 206
        },
        "id": "W-DK40N2CErw",
        "outputId": "13af4fd3-9242-49e1-ed77-663871147d11"
      },
      "execution_count": 8,
      "outputs": [
        {
          "output_type": "execute_result",
          "data": {
            "text/plain": [
              "        example_id           query  product_id query_locale  esci_label\n",
              "249721      249721   revent 80 cfm  B000MOO21W           us  irrelevant\n",
              "249722      249722   revent 80 cfm  B001E6DMKY           us       exact\n",
              "249723      249723   revent 80 cfm  B003O0MNGC           us       exact\n",
              "249724      249724   revent 80 cfm  B00MARNO5Y           us       exact\n",
              "249725      249725   revent 80 cfm  B00XBZFWWM           us       exact"
            ],
            "text/html": [
              "\n",
              "  <div id=\"df-74d1c17b-b143-45e4-b7d0-f1b4aaa34181\">\n",
              "    <div class=\"colab-df-container\">\n",
              "      <div>\n",
              "<style scoped>\n",
              "    .dataframe tbody tr th:only-of-type {\n",
              "        vertical-align: middle;\n",
              "    }\n",
              "\n",
              "    .dataframe tbody tr th {\n",
              "        vertical-align: top;\n",
              "    }\n",
              "\n",
              "    .dataframe thead th {\n",
              "        text-align: right;\n",
              "    }\n",
              "</style>\n",
              "<table border=\"1\" class=\"dataframe\">\n",
              "  <thead>\n",
              "    <tr style=\"text-align: right;\">\n",
              "      <th></th>\n",
              "      <th>example_id</th>\n",
              "      <th>query</th>\n",
              "      <th>product_id</th>\n",
              "      <th>query_locale</th>\n",
              "      <th>esci_label</th>\n",
              "    </tr>\n",
              "  </thead>\n",
              "  <tbody>\n",
              "    <tr>\n",
              "      <th>249721</th>\n",
              "      <td>249721</td>\n",
              "      <td>revent 80 cfm</td>\n",
              "      <td>B000MOO21W</td>\n",
              "      <td>us</td>\n",
              "      <td>irrelevant</td>\n",
              "    </tr>\n",
              "    <tr>\n",
              "      <th>249722</th>\n",
              "      <td>249722</td>\n",
              "      <td>revent 80 cfm</td>\n",
              "      <td>B001E6DMKY</td>\n",
              "      <td>us</td>\n",
              "      <td>exact</td>\n",
              "    </tr>\n",
              "    <tr>\n",
              "      <th>249723</th>\n",
              "      <td>249723</td>\n",
              "      <td>revent 80 cfm</td>\n",
              "      <td>B003O0MNGC</td>\n",
              "      <td>us</td>\n",
              "      <td>exact</td>\n",
              "    </tr>\n",
              "    <tr>\n",
              "      <th>249724</th>\n",
              "      <td>249724</td>\n",
              "      <td>revent 80 cfm</td>\n",
              "      <td>B00MARNO5Y</td>\n",
              "      <td>us</td>\n",
              "      <td>exact</td>\n",
              "    </tr>\n",
              "    <tr>\n",
              "      <th>249725</th>\n",
              "      <td>249725</td>\n",
              "      <td>revent 80 cfm</td>\n",
              "      <td>B00XBZFWWM</td>\n",
              "      <td>us</td>\n",
              "      <td>exact</td>\n",
              "    </tr>\n",
              "  </tbody>\n",
              "</table>\n",
              "</div>\n",
              "      <button class=\"colab-df-convert\" onclick=\"convertToInteractive('df-74d1c17b-b143-45e4-b7d0-f1b4aaa34181')\"\n",
              "              title=\"Convert this dataframe to an interactive table.\"\n",
              "              style=\"display:none;\">\n",
              "        \n",
              "  <svg xmlns=\"http://www.w3.org/2000/svg\" height=\"24px\"viewBox=\"0 0 24 24\"\n",
              "       width=\"24px\">\n",
              "    <path d=\"M0 0h24v24H0V0z\" fill=\"none\"/>\n",
              "    <path d=\"M18.56 5.44l.94 2.06.94-2.06 2.06-.94-2.06-.94-.94-2.06-.94 2.06-2.06.94zm-11 1L8.5 8.5l.94-2.06 2.06-.94-2.06-.94L8.5 2.5l-.94 2.06-2.06.94zm10 10l.94 2.06.94-2.06 2.06-.94-2.06-.94-.94-2.06-.94 2.06-2.06.94z\"/><path d=\"M17.41 7.96l-1.37-1.37c-.4-.4-.92-.59-1.43-.59-.52 0-1.04.2-1.43.59L10.3 9.45l-7.72 7.72c-.78.78-.78 2.05 0 2.83L4 21.41c.39.39.9.59 1.41.59.51 0 1.02-.2 1.41-.59l7.78-7.78 2.81-2.81c.8-.78.8-2.07 0-2.86zM5.41 20L4 18.59l7.72-7.72 1.47 1.35L5.41 20z\"/>\n",
              "  </svg>\n",
              "      </button>\n",
              "      \n",
              "  <style>\n",
              "    .colab-df-container {\n",
              "      display:flex;\n",
              "      flex-wrap:wrap;\n",
              "      gap: 12px;\n",
              "    }\n",
              "\n",
              "    .colab-df-convert {\n",
              "      background-color: #E8F0FE;\n",
              "      border: none;\n",
              "      border-radius: 50%;\n",
              "      cursor: pointer;\n",
              "      display: none;\n",
              "      fill: #1967D2;\n",
              "      height: 32px;\n",
              "      padding: 0 0 0 0;\n",
              "      width: 32px;\n",
              "    }\n",
              "\n",
              "    .colab-df-convert:hover {\n",
              "      background-color: #E2EBFA;\n",
              "      box-shadow: 0px 1px 2px rgba(60, 64, 67, 0.3), 0px 1px 3px 1px rgba(60, 64, 67, 0.15);\n",
              "      fill: #174EA6;\n",
              "    }\n",
              "\n",
              "    [theme=dark] .colab-df-convert {\n",
              "      background-color: #3B4455;\n",
              "      fill: #D2E3FC;\n",
              "    }\n",
              "\n",
              "    [theme=dark] .colab-df-convert:hover {\n",
              "      background-color: #434B5C;\n",
              "      box-shadow: 0px 1px 3px 1px rgba(0, 0, 0, 0.15);\n",
              "      filter: drop-shadow(0px 1px 2px rgba(0, 0, 0, 0.3));\n",
              "      fill: #FFFFFF;\n",
              "    }\n",
              "  </style>\n",
              "\n",
              "      <script>\n",
              "        const buttonEl =\n",
              "          document.querySelector('#df-74d1c17b-b143-45e4-b7d0-f1b4aaa34181 button.colab-df-convert');\n",
              "        buttonEl.style.display =\n",
              "          google.colab.kernel.accessAllowed ? 'block' : 'none';\n",
              "\n",
              "        async function convertToInteractive(key) {\n",
              "          const element = document.querySelector('#df-74d1c17b-b143-45e4-b7d0-f1b4aaa34181');\n",
              "          const dataTable =\n",
              "            await google.colab.kernel.invokeFunction('convertToInteractive',\n",
              "                                                     [key], {});\n",
              "          if (!dataTable) return;\n",
              "\n",
              "          const docLinkHtml = 'Like what you see? Visit the ' +\n",
              "            '<a target=\"_blank\" href=https://colab.research.google.com/notebooks/data_table.ipynb>data table notebook</a>'\n",
              "            + ' to learn more about interactive tables.';\n",
              "          element.innerHTML = '';\n",
              "          dataTable['output_type'] = 'display_data';\n",
              "          await google.colab.output.renderOutput(dataTable, element);\n",
              "          const docLink = document.createElement('div');\n",
              "          docLink.innerHTML = docLinkHtml;\n",
              "          element.appendChild(docLink);\n",
              "        }\n",
              "      </script>\n",
              "    </div>\n",
              "  </div>\n",
              "  "
            ]
          },
          "metadata": {},
          "execution_count": 8
        }
      ]
    },
    {
      "cell_type": "markdown",
      "source": [
        "**Product catalog and Train dataset info**"
      ],
      "metadata": {
        "id": "3G7WdguJnDBU"
      }
    },
    {
      "cell_type": "code",
      "source": [
        "print(\"Product catalog: \\n\")\n",
        "us_product_catalog_pd.info()\n",
        "print(\"\\n \\n\")\n",
        "print(\"Train: \\n\")\n",
        "us_train_pd.info()"
      ],
      "metadata": {
        "colab": {
          "base_uri": "https://localhost:8080/"
        },
        "id": "gQZ5av2Fx-eE",
        "outputId": "106c057b-9dd3-4be7-fe75-2ad335d84626"
      },
      "execution_count": 9,
      "outputs": [
        {
          "output_type": "stream",
          "name": "stdout",
          "text": [
            "Product catalog: \n",
            "\n",
            "<class 'pandas.core.frame.DataFrame'>\n",
            "Int64Index: 1216070 entries, 167236 to 1753643\n",
            "Data columns (total 7 columns):\n",
            " #   Column                Non-Null Count    Dtype \n",
            "---  ------                --------------    ----- \n",
            " 0   product_id            1216070 non-null  object\n",
            " 1   product_title         1215854 non-null  object\n",
            " 2   product_description   646076 non-null   object\n",
            " 3   product_bullet_point  1037091 non-null  object\n",
            " 4   product_brand         1143575 non-null  object\n",
            " 5   product_color_name    809776 non-null   object\n",
            " 6   product_locale        1216070 non-null  object\n",
            "dtypes: object(7)\n",
            "memory usage: 74.2+ MB\n",
            "\n",
            " \n",
            "\n",
            "Train: \n",
            "\n",
            "<class 'pandas.core.frame.DataFrame'>\n",
            "Int64Index: 1272626 entries, 249721 to 1522346\n",
            "Data columns (total 5 columns):\n",
            " #   Column        Non-Null Count    Dtype \n",
            "---  ------        --------------    ----- \n",
            " 0   example_id    1272626 non-null  int64 \n",
            " 1   query         1272626 non-null  object\n",
            " 2   product_id    1272626 non-null  object\n",
            " 3   query_locale  1272626 non-null  object\n",
            " 4   esci_label    1272626 non-null  object\n",
            "dtypes: int64(1), object(4)\n",
            "memory usage: 58.3+ MB\n"
          ]
        }
      ]
    },
    {
      "cell_type": "markdown",
      "source": [
        "**Product catalog describe**"
      ],
      "metadata": {
        "id": "ec9R3ryVu7Z8"
      }
    },
    {
      "cell_type": "code",
      "source": [
        "us_product_catalog_pd.describe(include='object')"
      ],
      "metadata": {
        "colab": {
          "base_uri": "https://localhost:8080/",
          "height": 175
        },
        "id": "hdsBJli6Ax05",
        "outputId": "e6e7860f-2c6b-4211-d766-7898bc2cc32e"
      },
      "execution_count": 10,
      "outputs": [
        {
          "output_type": "execute_result",
          "data": {
            "text/plain": [
              "        product_id product_title  \\\n",
              "count      1216070       1215854   \n",
              "unique     1216070       1193661   \n",
              "top     B003O0MNGC     Episode 1   \n",
              "freq             1           152   \n",
              "\n",
              "                                      product_description  \\\n",
              "count                                              646076   \n",
              "unique                                             541651   \n",
              "top     This pre-owned or refurbished product has been...   \n",
              "freq                                                 1192   \n",
              "\n",
              "               product_bullet_point product_brand product_color_name  \\\n",
              "count                       1037091       1143575             809776   \n",
              "unique                       861808        211177             175308   \n",
              "top     Used Book in Good Condition          Nike              Black   \n",
              "freq                           2718          6160             125444   \n",
              "\n",
              "       product_locale  \n",
              "count         1216070  \n",
              "unique              1  \n",
              "top                us  \n",
              "freq          1216070  "
            ],
            "text/html": [
              "\n",
              "  <div id=\"df-18a5fd02-30af-4596-a82b-ebc0eb26e480\">\n",
              "    <div class=\"colab-df-container\">\n",
              "      <div>\n",
              "<style scoped>\n",
              "    .dataframe tbody tr th:only-of-type {\n",
              "        vertical-align: middle;\n",
              "    }\n",
              "\n",
              "    .dataframe tbody tr th {\n",
              "        vertical-align: top;\n",
              "    }\n",
              "\n",
              "    .dataframe thead th {\n",
              "        text-align: right;\n",
              "    }\n",
              "</style>\n",
              "<table border=\"1\" class=\"dataframe\">\n",
              "  <thead>\n",
              "    <tr style=\"text-align: right;\">\n",
              "      <th></th>\n",
              "      <th>product_id</th>\n",
              "      <th>product_title</th>\n",
              "      <th>product_description</th>\n",
              "      <th>product_bullet_point</th>\n",
              "      <th>product_brand</th>\n",
              "      <th>product_color_name</th>\n",
              "      <th>product_locale</th>\n",
              "    </tr>\n",
              "  </thead>\n",
              "  <tbody>\n",
              "    <tr>\n",
              "      <th>count</th>\n",
              "      <td>1216070</td>\n",
              "      <td>1215854</td>\n",
              "      <td>646076</td>\n",
              "      <td>1037091</td>\n",
              "      <td>1143575</td>\n",
              "      <td>809776</td>\n",
              "      <td>1216070</td>\n",
              "    </tr>\n",
              "    <tr>\n",
              "      <th>unique</th>\n",
              "      <td>1216070</td>\n",
              "      <td>1193661</td>\n",
              "      <td>541651</td>\n",
              "      <td>861808</td>\n",
              "      <td>211177</td>\n",
              "      <td>175308</td>\n",
              "      <td>1</td>\n",
              "    </tr>\n",
              "    <tr>\n",
              "      <th>top</th>\n",
              "      <td>B003O0MNGC</td>\n",
              "      <td>Episode 1</td>\n",
              "      <td>This pre-owned or refurbished product has been...</td>\n",
              "      <td>Used Book in Good Condition</td>\n",
              "      <td>Nike</td>\n",
              "      <td>Black</td>\n",
              "      <td>us</td>\n",
              "    </tr>\n",
              "    <tr>\n",
              "      <th>freq</th>\n",
              "      <td>1</td>\n",
              "      <td>152</td>\n",
              "      <td>1192</td>\n",
              "      <td>2718</td>\n",
              "      <td>6160</td>\n",
              "      <td>125444</td>\n",
              "      <td>1216070</td>\n",
              "    </tr>\n",
              "  </tbody>\n",
              "</table>\n",
              "</div>\n",
              "      <button class=\"colab-df-convert\" onclick=\"convertToInteractive('df-18a5fd02-30af-4596-a82b-ebc0eb26e480')\"\n",
              "              title=\"Convert this dataframe to an interactive table.\"\n",
              "              style=\"display:none;\">\n",
              "        \n",
              "  <svg xmlns=\"http://www.w3.org/2000/svg\" height=\"24px\"viewBox=\"0 0 24 24\"\n",
              "       width=\"24px\">\n",
              "    <path d=\"M0 0h24v24H0V0z\" fill=\"none\"/>\n",
              "    <path d=\"M18.56 5.44l.94 2.06.94-2.06 2.06-.94-2.06-.94-.94-2.06-.94 2.06-2.06.94zm-11 1L8.5 8.5l.94-2.06 2.06-.94-2.06-.94L8.5 2.5l-.94 2.06-2.06.94zm10 10l.94 2.06.94-2.06 2.06-.94-2.06-.94-.94-2.06-.94 2.06-2.06.94z\"/><path d=\"M17.41 7.96l-1.37-1.37c-.4-.4-.92-.59-1.43-.59-.52 0-1.04.2-1.43.59L10.3 9.45l-7.72 7.72c-.78.78-.78 2.05 0 2.83L4 21.41c.39.39.9.59 1.41.59.51 0 1.02-.2 1.41-.59l7.78-7.78 2.81-2.81c.8-.78.8-2.07 0-2.86zM5.41 20L4 18.59l7.72-7.72 1.47 1.35L5.41 20z\"/>\n",
              "  </svg>\n",
              "      </button>\n",
              "      \n",
              "  <style>\n",
              "    .colab-df-container {\n",
              "      display:flex;\n",
              "      flex-wrap:wrap;\n",
              "      gap: 12px;\n",
              "    }\n",
              "\n",
              "    .colab-df-convert {\n",
              "      background-color: #E8F0FE;\n",
              "      border: none;\n",
              "      border-radius: 50%;\n",
              "      cursor: pointer;\n",
              "      display: none;\n",
              "      fill: #1967D2;\n",
              "      height: 32px;\n",
              "      padding: 0 0 0 0;\n",
              "      width: 32px;\n",
              "    }\n",
              "\n",
              "    .colab-df-convert:hover {\n",
              "      background-color: #E2EBFA;\n",
              "      box-shadow: 0px 1px 2px rgba(60, 64, 67, 0.3), 0px 1px 3px 1px rgba(60, 64, 67, 0.15);\n",
              "      fill: #174EA6;\n",
              "    }\n",
              "\n",
              "    [theme=dark] .colab-df-convert {\n",
              "      background-color: #3B4455;\n",
              "      fill: #D2E3FC;\n",
              "    }\n",
              "\n",
              "    [theme=dark] .colab-df-convert:hover {\n",
              "      background-color: #434B5C;\n",
              "      box-shadow: 0px 1px 3px 1px rgba(0, 0, 0, 0.15);\n",
              "      filter: drop-shadow(0px 1px 2px rgba(0, 0, 0, 0.3));\n",
              "      fill: #FFFFFF;\n",
              "    }\n",
              "  </style>\n",
              "\n",
              "      <script>\n",
              "        const buttonEl =\n",
              "          document.querySelector('#df-18a5fd02-30af-4596-a82b-ebc0eb26e480 button.colab-df-convert');\n",
              "        buttonEl.style.display =\n",
              "          google.colab.kernel.accessAllowed ? 'block' : 'none';\n",
              "\n",
              "        async function convertToInteractive(key) {\n",
              "          const element = document.querySelector('#df-18a5fd02-30af-4596-a82b-ebc0eb26e480');\n",
              "          const dataTable =\n",
              "            await google.colab.kernel.invokeFunction('convertToInteractive',\n",
              "                                                     [key], {});\n",
              "          if (!dataTable) return;\n",
              "\n",
              "          const docLinkHtml = 'Like what you see? Visit the ' +\n",
              "            '<a target=\"_blank\" href=https://colab.research.google.com/notebooks/data_table.ipynb>data table notebook</a>'\n",
              "            + ' to learn more about interactive tables.';\n",
              "          element.innerHTML = '';\n",
              "          dataTable['output_type'] = 'display_data';\n",
              "          await google.colab.output.renderOutput(dataTable, element);\n",
              "          const docLink = document.createElement('div');\n",
              "          docLink.innerHTML = docLinkHtml;\n",
              "          element.appendChild(docLink);\n",
              "        }\n",
              "      </script>\n",
              "    </div>\n",
              "  </div>\n",
              "  "
            ]
          },
          "metadata": {},
          "execution_count": 10
        }
      ]
    },
    {
      "cell_type": "markdown",
      "source": [
        "**Train dataset describe**"
      ],
      "metadata": {
        "id": "YDNbwi1DnIKj"
      }
    },
    {
      "cell_type": "code",
      "source": [
        "us_train_pd.describe(include='object')"
      ],
      "metadata": {
        "colab": {
          "base_uri": "https://localhost:8080/",
          "height": 175
        },
        "id": "P-HWiO0mI0RM",
        "outputId": "d2c727cd-4ccb-4309-d077-37b7bd227110"
      },
      "execution_count": 11,
      "outputs": [
        {
          "output_type": "execute_result",
          "data": {
            "text/plain": [
              "          query  product_id query_locale esci_label\n",
              "count   1272626     1272626      1272626    1272626\n",
              "unique    68139      913438            1          4\n",
              "top          tv  B01HFFXLNA           us      exact\n",
              "freq        198          88      1272626     874058"
            ],
            "text/html": [
              "\n",
              "  <div id=\"df-e323dced-c470-43ae-9b65-faf54e3e6fe0\">\n",
              "    <div class=\"colab-df-container\">\n",
              "      <div>\n",
              "<style scoped>\n",
              "    .dataframe tbody tr th:only-of-type {\n",
              "        vertical-align: middle;\n",
              "    }\n",
              "\n",
              "    .dataframe tbody tr th {\n",
              "        vertical-align: top;\n",
              "    }\n",
              "\n",
              "    .dataframe thead th {\n",
              "        text-align: right;\n",
              "    }\n",
              "</style>\n",
              "<table border=\"1\" class=\"dataframe\">\n",
              "  <thead>\n",
              "    <tr style=\"text-align: right;\">\n",
              "      <th></th>\n",
              "      <th>query</th>\n",
              "      <th>product_id</th>\n",
              "      <th>query_locale</th>\n",
              "      <th>esci_label</th>\n",
              "    </tr>\n",
              "  </thead>\n",
              "  <tbody>\n",
              "    <tr>\n",
              "      <th>count</th>\n",
              "      <td>1272626</td>\n",
              "      <td>1272626</td>\n",
              "      <td>1272626</td>\n",
              "      <td>1272626</td>\n",
              "    </tr>\n",
              "    <tr>\n",
              "      <th>unique</th>\n",
              "      <td>68139</td>\n",
              "      <td>913438</td>\n",
              "      <td>1</td>\n",
              "      <td>4</td>\n",
              "    </tr>\n",
              "    <tr>\n",
              "      <th>top</th>\n",
              "      <td>tv</td>\n",
              "      <td>B01HFFXLNA</td>\n",
              "      <td>us</td>\n",
              "      <td>exact</td>\n",
              "    </tr>\n",
              "    <tr>\n",
              "      <th>freq</th>\n",
              "      <td>198</td>\n",
              "      <td>88</td>\n",
              "      <td>1272626</td>\n",
              "      <td>874058</td>\n",
              "    </tr>\n",
              "  </tbody>\n",
              "</table>\n",
              "</div>\n",
              "      <button class=\"colab-df-convert\" onclick=\"convertToInteractive('df-e323dced-c470-43ae-9b65-faf54e3e6fe0')\"\n",
              "              title=\"Convert this dataframe to an interactive table.\"\n",
              "              style=\"display:none;\">\n",
              "        \n",
              "  <svg xmlns=\"http://www.w3.org/2000/svg\" height=\"24px\"viewBox=\"0 0 24 24\"\n",
              "       width=\"24px\">\n",
              "    <path d=\"M0 0h24v24H0V0z\" fill=\"none\"/>\n",
              "    <path d=\"M18.56 5.44l.94 2.06.94-2.06 2.06-.94-2.06-.94-.94-2.06-.94 2.06-2.06.94zm-11 1L8.5 8.5l.94-2.06 2.06-.94-2.06-.94L8.5 2.5l-.94 2.06-2.06.94zm10 10l.94 2.06.94-2.06 2.06-.94-2.06-.94-.94-2.06-.94 2.06-2.06.94z\"/><path d=\"M17.41 7.96l-1.37-1.37c-.4-.4-.92-.59-1.43-.59-.52 0-1.04.2-1.43.59L10.3 9.45l-7.72 7.72c-.78.78-.78 2.05 0 2.83L4 21.41c.39.39.9.59 1.41.59.51 0 1.02-.2 1.41-.59l7.78-7.78 2.81-2.81c.8-.78.8-2.07 0-2.86zM5.41 20L4 18.59l7.72-7.72 1.47 1.35L5.41 20z\"/>\n",
              "  </svg>\n",
              "      </button>\n",
              "      \n",
              "  <style>\n",
              "    .colab-df-container {\n",
              "      display:flex;\n",
              "      flex-wrap:wrap;\n",
              "      gap: 12px;\n",
              "    }\n",
              "\n",
              "    .colab-df-convert {\n",
              "      background-color: #E8F0FE;\n",
              "      border: none;\n",
              "      border-radius: 50%;\n",
              "      cursor: pointer;\n",
              "      display: none;\n",
              "      fill: #1967D2;\n",
              "      height: 32px;\n",
              "      padding: 0 0 0 0;\n",
              "      width: 32px;\n",
              "    }\n",
              "\n",
              "    .colab-df-convert:hover {\n",
              "      background-color: #E2EBFA;\n",
              "      box-shadow: 0px 1px 2px rgba(60, 64, 67, 0.3), 0px 1px 3px 1px rgba(60, 64, 67, 0.15);\n",
              "      fill: #174EA6;\n",
              "    }\n",
              "\n",
              "    [theme=dark] .colab-df-convert {\n",
              "      background-color: #3B4455;\n",
              "      fill: #D2E3FC;\n",
              "    }\n",
              "\n",
              "    [theme=dark] .colab-df-convert:hover {\n",
              "      background-color: #434B5C;\n",
              "      box-shadow: 0px 1px 3px 1px rgba(0, 0, 0, 0.15);\n",
              "      filter: drop-shadow(0px 1px 2px rgba(0, 0, 0, 0.3));\n",
              "      fill: #FFFFFF;\n",
              "    }\n",
              "  </style>\n",
              "\n",
              "      <script>\n",
              "        const buttonEl =\n",
              "          document.querySelector('#df-e323dced-c470-43ae-9b65-faf54e3e6fe0 button.colab-df-convert');\n",
              "        buttonEl.style.display =\n",
              "          google.colab.kernel.accessAllowed ? 'block' : 'none';\n",
              "\n",
              "        async function convertToInteractive(key) {\n",
              "          const element = document.querySelector('#df-e323dced-c470-43ae-9b65-faf54e3e6fe0');\n",
              "          const dataTable =\n",
              "            await google.colab.kernel.invokeFunction('convertToInteractive',\n",
              "                                                     [key], {});\n",
              "          if (!dataTable) return;\n",
              "\n",
              "          const docLinkHtml = 'Like what you see? Visit the ' +\n",
              "            '<a target=\"_blank\" href=https://colab.research.google.com/notebooks/data_table.ipynb>data table notebook</a>'\n",
              "            + ' to learn more about interactive tables.';\n",
              "          element.innerHTML = '';\n",
              "          dataTable['output_type'] = 'display_data';\n",
              "          await google.colab.output.renderOutput(dataTable, element);\n",
              "          const docLink = document.createElement('div');\n",
              "          docLink.innerHTML = docLinkHtml;\n",
              "          element.appendChild(docLink);\n",
              "        }\n",
              "      </script>\n",
              "    </div>\n",
              "  </div>\n",
              "  "
            ]
          },
          "metadata": {},
          "execution_count": 11
        }
      ]
    },
    {
      "cell_type": "markdown",
      "source": [
        "# Design of features"
      ],
      "metadata": {
        "id": "RRKM2Kz9npVE"
      }
    },
    {
      "cell_type": "markdown",
      "source": [
        "**Join the product catalog and train dataset based on product id**"
      ],
      "metadata": {
        "id": "jp0N9OE_KEsL"
      }
    },
    {
      "cell_type": "code",
      "source": [
        "us_train_product_df = us_train_pd.merge(us_product_catalog_pd,left_on = ['product_id'],right_on=['product_id'], how= 'left')"
      ],
      "metadata": {
        "id": "75qM3hc0xKRS"
      },
      "execution_count": 12,
      "outputs": []
    },
    {
      "cell_type": "code",
      "source": [
        "us_train_product_df.head(3)"
      ],
      "metadata": {
        "id": "vP5K2CfgpgEd",
        "colab": {
          "base_uri": "https://localhost:8080/",
          "height": 398
        },
        "outputId": "7b8812b7-2136-4175-9a3b-9a6baf2cf05a"
      },
      "execution_count": 86,
      "outputs": [
        {
          "output_type": "execute_result",
          "data": {
            "text/plain": [
              "   example_id           query  product_id query_locale  esci_label  \\\n",
              "0      249721   revent 80 cfm  B000MOO21W           us  irrelevant   \n",
              "1      249722   revent 80 cfm  B001E6DMKY           us       exact   \n",
              "2      249723   revent 80 cfm  B003O0MNGC           us       exact   \n",
              "\n",
              "                                       product_title product_description  \\\n",
              "0  Panasonic FV-20VQ3 WhisperCeiling 190 CFM Ceil...                       \n",
              "1  Broan Very Quiet Ceiling Bathroom Exhaust Fan,...                       \n",
              "2  Delta BreezSignature VFB25ACH 80 CFM Exhaust B...                       \n",
              "\n",
              "                                product_bullet_point  \\\n",
              "0  WhisperCeiling fans feature a totally enclosed...   \n",
              "1  HIGH-QUALITY FAN: Very quiet, energy efficient...   \n",
              "2  Virtually silent at less than 0.3 sones\\nPreci...   \n",
              "\n",
              "                       product_brand product_color_name product_locale  \\\n",
              "0                          Panasonic              White             us   \n",
              "1                       Broan-NuTone              White             us   \n",
              "2  DELTA ELECTRONICS (AMERICAS) LTD.              White             us   \n",
              "\n",
              "                                        product_text  \\\n",
              "0  Panasonic FV-20VQ3 WhisperCeiling 190 CFM Ceil...   \n",
              "1  Broan Very Quiet Ceiling Bathroom Exhaust Fan,...   \n",
              "2  Delta BreezSignature VFB25ACH 80 CFM Exhaust B...   \n",
              "\n",
              "                                  query_product_text  \n",
              "0   revent 80 cfm Panasonic FV-20VQ3 WhisperCeili...  \n",
              "1   revent 80 cfm Broan Very Quiet Ceiling Bathro...  \n",
              "2   revent 80 cfm Delta BreezSignature VFB25ACH 8...  "
            ],
            "text/html": [
              "\n",
              "  <div id=\"df-e5a24811-43bd-4b3c-9ab9-ab90a8e97f32\">\n",
              "    <div class=\"colab-df-container\">\n",
              "      <div>\n",
              "<style scoped>\n",
              "    .dataframe tbody tr th:only-of-type {\n",
              "        vertical-align: middle;\n",
              "    }\n",
              "\n",
              "    .dataframe tbody tr th {\n",
              "        vertical-align: top;\n",
              "    }\n",
              "\n",
              "    .dataframe thead th {\n",
              "        text-align: right;\n",
              "    }\n",
              "</style>\n",
              "<table border=\"1\" class=\"dataframe\">\n",
              "  <thead>\n",
              "    <tr style=\"text-align: right;\">\n",
              "      <th></th>\n",
              "      <th>example_id</th>\n",
              "      <th>query</th>\n",
              "      <th>product_id</th>\n",
              "      <th>query_locale</th>\n",
              "      <th>esci_label</th>\n",
              "      <th>product_title</th>\n",
              "      <th>product_description</th>\n",
              "      <th>product_bullet_point</th>\n",
              "      <th>product_brand</th>\n",
              "      <th>product_color_name</th>\n",
              "      <th>product_locale</th>\n",
              "      <th>product_text</th>\n",
              "      <th>query_product_text</th>\n",
              "    </tr>\n",
              "  </thead>\n",
              "  <tbody>\n",
              "    <tr>\n",
              "      <th>0</th>\n",
              "      <td>249721</td>\n",
              "      <td>revent 80 cfm</td>\n",
              "      <td>B000MOO21W</td>\n",
              "      <td>us</td>\n",
              "      <td>irrelevant</td>\n",
              "      <td>Panasonic FV-20VQ3 WhisperCeiling 190 CFM Ceil...</td>\n",
              "      <td></td>\n",
              "      <td>WhisperCeiling fans feature a totally enclosed...</td>\n",
              "      <td>Panasonic</td>\n",
              "      <td>White</td>\n",
              "      <td>us</td>\n",
              "      <td>Panasonic FV-20VQ3 WhisperCeiling 190 CFM Ceil...</td>\n",
              "      <td>revent 80 cfm Panasonic FV-20VQ3 WhisperCeili...</td>\n",
              "    </tr>\n",
              "    <tr>\n",
              "      <th>1</th>\n",
              "      <td>249722</td>\n",
              "      <td>revent 80 cfm</td>\n",
              "      <td>B001E6DMKY</td>\n",
              "      <td>us</td>\n",
              "      <td>exact</td>\n",
              "      <td>Broan Very Quiet Ceiling Bathroom Exhaust Fan,...</td>\n",
              "      <td></td>\n",
              "      <td>HIGH-QUALITY FAN: Very quiet, energy efficient...</td>\n",
              "      <td>Broan-NuTone</td>\n",
              "      <td>White</td>\n",
              "      <td>us</td>\n",
              "      <td>Broan Very Quiet Ceiling Bathroom Exhaust Fan,...</td>\n",
              "      <td>revent 80 cfm Broan Very Quiet Ceiling Bathro...</td>\n",
              "    </tr>\n",
              "    <tr>\n",
              "      <th>2</th>\n",
              "      <td>249723</td>\n",
              "      <td>revent 80 cfm</td>\n",
              "      <td>B003O0MNGC</td>\n",
              "      <td>us</td>\n",
              "      <td>exact</td>\n",
              "      <td>Delta BreezSignature VFB25ACH 80 CFM Exhaust B...</td>\n",
              "      <td></td>\n",
              "      <td>Virtually silent at less than 0.3 sones\\nPreci...</td>\n",
              "      <td>DELTA ELECTRONICS (AMERICAS) LTD.</td>\n",
              "      <td>White</td>\n",
              "      <td>us</td>\n",
              "      <td>Delta BreezSignature VFB25ACH 80 CFM Exhaust B...</td>\n",
              "      <td>revent 80 cfm Delta BreezSignature VFB25ACH 8...</td>\n",
              "    </tr>\n",
              "  </tbody>\n",
              "</table>\n",
              "</div>\n",
              "      <button class=\"colab-df-convert\" onclick=\"convertToInteractive('df-e5a24811-43bd-4b3c-9ab9-ab90a8e97f32')\"\n",
              "              title=\"Convert this dataframe to an interactive table.\"\n",
              "              style=\"display:none;\">\n",
              "        \n",
              "  <svg xmlns=\"http://www.w3.org/2000/svg\" height=\"24px\"viewBox=\"0 0 24 24\"\n",
              "       width=\"24px\">\n",
              "    <path d=\"M0 0h24v24H0V0z\" fill=\"none\"/>\n",
              "    <path d=\"M18.56 5.44l.94 2.06.94-2.06 2.06-.94-2.06-.94-.94-2.06-.94 2.06-2.06.94zm-11 1L8.5 8.5l.94-2.06 2.06-.94-2.06-.94L8.5 2.5l-.94 2.06-2.06.94zm10 10l.94 2.06.94-2.06 2.06-.94-2.06-.94-.94-2.06-.94 2.06-2.06.94z\"/><path d=\"M17.41 7.96l-1.37-1.37c-.4-.4-.92-.59-1.43-.59-.52 0-1.04.2-1.43.59L10.3 9.45l-7.72 7.72c-.78.78-.78 2.05 0 2.83L4 21.41c.39.39.9.59 1.41.59.51 0 1.02-.2 1.41-.59l7.78-7.78 2.81-2.81c.8-.78.8-2.07 0-2.86zM5.41 20L4 18.59l7.72-7.72 1.47 1.35L5.41 20z\"/>\n",
              "  </svg>\n",
              "      </button>\n",
              "      \n",
              "  <style>\n",
              "    .colab-df-container {\n",
              "      display:flex;\n",
              "      flex-wrap:wrap;\n",
              "      gap: 12px;\n",
              "    }\n",
              "\n",
              "    .colab-df-convert {\n",
              "      background-color: #E8F0FE;\n",
              "      border: none;\n",
              "      border-radius: 50%;\n",
              "      cursor: pointer;\n",
              "      display: none;\n",
              "      fill: #1967D2;\n",
              "      height: 32px;\n",
              "      padding: 0 0 0 0;\n",
              "      width: 32px;\n",
              "    }\n",
              "\n",
              "    .colab-df-convert:hover {\n",
              "      background-color: #E2EBFA;\n",
              "      box-shadow: 0px 1px 2px rgba(60, 64, 67, 0.3), 0px 1px 3px 1px rgba(60, 64, 67, 0.15);\n",
              "      fill: #174EA6;\n",
              "    }\n",
              "\n",
              "    [theme=dark] .colab-df-convert {\n",
              "      background-color: #3B4455;\n",
              "      fill: #D2E3FC;\n",
              "    }\n",
              "\n",
              "    [theme=dark] .colab-df-convert:hover {\n",
              "      background-color: #434B5C;\n",
              "      box-shadow: 0px 1px 3px 1px rgba(0, 0, 0, 0.15);\n",
              "      filter: drop-shadow(0px 1px 2px rgba(0, 0, 0, 0.3));\n",
              "      fill: #FFFFFF;\n",
              "    }\n",
              "  </style>\n",
              "\n",
              "      <script>\n",
              "        const buttonEl =\n",
              "          document.querySelector('#df-e5a24811-43bd-4b3c-9ab9-ab90a8e97f32 button.colab-df-convert');\n",
              "        buttonEl.style.display =\n",
              "          google.colab.kernel.accessAllowed ? 'block' : 'none';\n",
              "\n",
              "        async function convertToInteractive(key) {\n",
              "          const element = document.querySelector('#df-e5a24811-43bd-4b3c-9ab9-ab90a8e97f32');\n",
              "          const dataTable =\n",
              "            await google.colab.kernel.invokeFunction('convertToInteractive',\n",
              "                                                     [key], {});\n",
              "          if (!dataTable) return;\n",
              "\n",
              "          const docLinkHtml = 'Like what you see? Visit the ' +\n",
              "            '<a target=\"_blank\" href=https://colab.research.google.com/notebooks/data_table.ipynb>data table notebook</a>'\n",
              "            + ' to learn more about interactive tables.';\n",
              "          element.innerHTML = '';\n",
              "          dataTable['output_type'] = 'display_data';\n",
              "          await google.colab.output.renderOutput(dataTable, element);\n",
              "          const docLink = document.createElement('div');\n",
              "          docLink.innerHTML = docLinkHtml;\n",
              "          element.appendChild(docLink);\n",
              "        }\n",
              "      </script>\n",
              "    </div>\n",
              "  </div>\n",
              "  "
            ]
          },
          "metadata": {},
          "execution_count": 86
        }
      ]
    },
    {
      "cell_type": "markdown",
      "source": [
        "**Combine Product Catalog Text into one column**"
      ],
      "metadata": {
        "id": "AQ6cr4RFKx6N"
      }
    },
    {
      "cell_type": "code",
      "source": [
        "columns = ['product_title', 'product_bullet_point', 'product_brand', 'product_color_name']\n",
        "us_train_product_df['product_text'] = us_train_product_df[columns].apply(lambda row: ' '.join(row.values.astype(str)), axis=1)"
      ],
      "metadata": {
        "id": "E9Jr1oVNPRX3"
      },
      "execution_count": 14,
      "outputs": []
    },
    {
      "cell_type": "code",
      "source": [
        "us_train_product_df.head(5)"
      ],
      "metadata": {
        "colab": {
          "base_uri": "https://localhost:8080/",
          "height": 583
        },
        "id": "lvyEbUNcZZ2R",
        "outputId": "f3fc3925-df46-4470-fd0d-853750394efd"
      },
      "execution_count": 22,
      "outputs": [
        {
          "output_type": "execute_result",
          "data": {
            "text/plain": [
              "   example_id           query  product_id query_locale  esci_label  \\\n",
              "0      249721   revent 80 cfm  B000MOO21W           us  irrelevant   \n",
              "1      249722   revent 80 cfm  B001E6DMKY           us       exact   \n",
              "2      249723   revent 80 cfm  B003O0MNGC           us       exact   \n",
              "3      249724   revent 80 cfm  B00MARNO5Y           us       exact   \n",
              "4      249725   revent 80 cfm  B00XBZFWWM           us       exact   \n",
              "\n",
              "                                       product_title product_description  \\\n",
              "0  Panasonic FV-20VQ3 WhisperCeiling 190 CFM Ceil...                       \n",
              "1  Broan Very Quiet Ceiling Bathroom Exhaust Fan,...                       \n",
              "2  Delta BreezSignature VFB25ACH 80 CFM Exhaust B...                       \n",
              "3  Aero Pure AP80RVLW Super Quiet 80 CFM Recessed...                       \n",
              "4  Panasonic FV-0811VF5 WhisperFit EZ Retrofit Ve...                       \n",
              "\n",
              "                                product_bullet_point  \\\n",
              "0  WhisperCeiling fans feature a totally enclosed...   \n",
              "1  HIGH-QUALITY FAN: Very quiet, energy efficient...   \n",
              "2  Virtually silent at less than 0.3 sones\\nPreci...   \n",
              "3  Super quiet 80CFM energy efficient fan virtual...   \n",
              "4  Retrofit Solution: Ideal for residential remod...   \n",
              "\n",
              "                       product_brand product_color_name product_locale  \\\n",
              "0                          Panasonic              White             us   \n",
              "1                       Broan-NuTone              White             us   \n",
              "2  DELTA ELECTRONICS (AMERICAS) LTD.              White             us   \n",
              "3                          Aero Pure              White             us   \n",
              "4                          Panasonic              White             us   \n",
              "\n",
              "                                        product_text  \\\n",
              "0  Panasonic FV-20VQ3 WhisperCeiling 190 CFM Ceil...   \n",
              "1  Broan Very Quiet Ceiling Bathroom Exhaust Fan,...   \n",
              "2  Delta BreezSignature VFB25ACH 80 CFM Exhaust B...   \n",
              "3  Aero Pure AP80RVLW Super Quiet 80 CFM Recessed...   \n",
              "4  Panasonic FV-0811VF5 WhisperFit EZ Retrofit Ve...   \n",
              "\n",
              "                                  query_product_text  \n",
              "0   revent 80 cfm Panasonic FV-20VQ3 WhisperCeili...  \n",
              "1   revent 80 cfm Broan Very Quiet Ceiling Bathro...  \n",
              "2   revent 80 cfm Delta BreezSignature VFB25ACH 8...  \n",
              "3   revent 80 cfm Aero Pure AP80RVLW Super Quiet ...  \n",
              "4   revent 80 cfm Panasonic FV-0811VF5 WhisperFit...  "
            ],
            "text/html": [
              "\n",
              "  <div id=\"df-49b34cea-865c-4b70-8300-b74d9f059aee\">\n",
              "    <div class=\"colab-df-container\">\n",
              "      <div>\n",
              "<style scoped>\n",
              "    .dataframe tbody tr th:only-of-type {\n",
              "        vertical-align: middle;\n",
              "    }\n",
              "\n",
              "    .dataframe tbody tr th {\n",
              "        vertical-align: top;\n",
              "    }\n",
              "\n",
              "    .dataframe thead th {\n",
              "        text-align: right;\n",
              "    }\n",
              "</style>\n",
              "<table border=\"1\" class=\"dataframe\">\n",
              "  <thead>\n",
              "    <tr style=\"text-align: right;\">\n",
              "      <th></th>\n",
              "      <th>example_id</th>\n",
              "      <th>query</th>\n",
              "      <th>product_id</th>\n",
              "      <th>query_locale</th>\n",
              "      <th>esci_label</th>\n",
              "      <th>product_title</th>\n",
              "      <th>product_description</th>\n",
              "      <th>product_bullet_point</th>\n",
              "      <th>product_brand</th>\n",
              "      <th>product_color_name</th>\n",
              "      <th>product_locale</th>\n",
              "      <th>product_text</th>\n",
              "      <th>query_product_text</th>\n",
              "    </tr>\n",
              "  </thead>\n",
              "  <tbody>\n",
              "    <tr>\n",
              "      <th>0</th>\n",
              "      <td>249721</td>\n",
              "      <td>revent 80 cfm</td>\n",
              "      <td>B000MOO21W</td>\n",
              "      <td>us</td>\n",
              "      <td>irrelevant</td>\n",
              "      <td>Panasonic FV-20VQ3 WhisperCeiling 190 CFM Ceil...</td>\n",
              "      <td></td>\n",
              "      <td>WhisperCeiling fans feature a totally enclosed...</td>\n",
              "      <td>Panasonic</td>\n",
              "      <td>White</td>\n",
              "      <td>us</td>\n",
              "      <td>Panasonic FV-20VQ3 WhisperCeiling 190 CFM Ceil...</td>\n",
              "      <td>revent 80 cfm Panasonic FV-20VQ3 WhisperCeili...</td>\n",
              "    </tr>\n",
              "    <tr>\n",
              "      <th>1</th>\n",
              "      <td>249722</td>\n",
              "      <td>revent 80 cfm</td>\n",
              "      <td>B001E6DMKY</td>\n",
              "      <td>us</td>\n",
              "      <td>exact</td>\n",
              "      <td>Broan Very Quiet Ceiling Bathroom Exhaust Fan,...</td>\n",
              "      <td></td>\n",
              "      <td>HIGH-QUALITY FAN: Very quiet, energy efficient...</td>\n",
              "      <td>Broan-NuTone</td>\n",
              "      <td>White</td>\n",
              "      <td>us</td>\n",
              "      <td>Broan Very Quiet Ceiling Bathroom Exhaust Fan,...</td>\n",
              "      <td>revent 80 cfm Broan Very Quiet Ceiling Bathro...</td>\n",
              "    </tr>\n",
              "    <tr>\n",
              "      <th>2</th>\n",
              "      <td>249723</td>\n",
              "      <td>revent 80 cfm</td>\n",
              "      <td>B003O0MNGC</td>\n",
              "      <td>us</td>\n",
              "      <td>exact</td>\n",
              "      <td>Delta BreezSignature VFB25ACH 80 CFM Exhaust B...</td>\n",
              "      <td></td>\n",
              "      <td>Virtually silent at less than 0.3 sones\\nPreci...</td>\n",
              "      <td>DELTA ELECTRONICS (AMERICAS) LTD.</td>\n",
              "      <td>White</td>\n",
              "      <td>us</td>\n",
              "      <td>Delta BreezSignature VFB25ACH 80 CFM Exhaust B...</td>\n",
              "      <td>revent 80 cfm Delta BreezSignature VFB25ACH 8...</td>\n",
              "    </tr>\n",
              "    <tr>\n",
              "      <th>3</th>\n",
              "      <td>249724</td>\n",
              "      <td>revent 80 cfm</td>\n",
              "      <td>B00MARNO5Y</td>\n",
              "      <td>us</td>\n",
              "      <td>exact</td>\n",
              "      <td>Aero Pure AP80RVLW Super Quiet 80 CFM Recessed...</td>\n",
              "      <td></td>\n",
              "      <td>Super quiet 80CFM energy efficient fan virtual...</td>\n",
              "      <td>Aero Pure</td>\n",
              "      <td>White</td>\n",
              "      <td>us</td>\n",
              "      <td>Aero Pure AP80RVLW Super Quiet 80 CFM Recessed...</td>\n",
              "      <td>revent 80 cfm Aero Pure AP80RVLW Super Quiet ...</td>\n",
              "    </tr>\n",
              "    <tr>\n",
              "      <th>4</th>\n",
              "      <td>249725</td>\n",
              "      <td>revent 80 cfm</td>\n",
              "      <td>B00XBZFWWM</td>\n",
              "      <td>us</td>\n",
              "      <td>exact</td>\n",
              "      <td>Panasonic FV-0811VF5 WhisperFit EZ Retrofit Ve...</td>\n",
              "      <td></td>\n",
              "      <td>Retrofit Solution: Ideal for residential remod...</td>\n",
              "      <td>Panasonic</td>\n",
              "      <td>White</td>\n",
              "      <td>us</td>\n",
              "      <td>Panasonic FV-0811VF5 WhisperFit EZ Retrofit Ve...</td>\n",
              "      <td>revent 80 cfm Panasonic FV-0811VF5 WhisperFit...</td>\n",
              "    </tr>\n",
              "  </tbody>\n",
              "</table>\n",
              "</div>\n",
              "      <button class=\"colab-df-convert\" onclick=\"convertToInteractive('df-49b34cea-865c-4b70-8300-b74d9f059aee')\"\n",
              "              title=\"Convert this dataframe to an interactive table.\"\n",
              "              style=\"display:none;\">\n",
              "        \n",
              "  <svg xmlns=\"http://www.w3.org/2000/svg\" height=\"24px\"viewBox=\"0 0 24 24\"\n",
              "       width=\"24px\">\n",
              "    <path d=\"M0 0h24v24H0V0z\" fill=\"none\"/>\n",
              "    <path d=\"M18.56 5.44l.94 2.06.94-2.06 2.06-.94-2.06-.94-.94-2.06-.94 2.06-2.06.94zm-11 1L8.5 8.5l.94-2.06 2.06-.94-2.06-.94L8.5 2.5l-.94 2.06-2.06.94zm10 10l.94 2.06.94-2.06 2.06-.94-2.06-.94-.94-2.06-.94 2.06-2.06.94z\"/><path d=\"M17.41 7.96l-1.37-1.37c-.4-.4-.92-.59-1.43-.59-.52 0-1.04.2-1.43.59L10.3 9.45l-7.72 7.72c-.78.78-.78 2.05 0 2.83L4 21.41c.39.39.9.59 1.41.59.51 0 1.02-.2 1.41-.59l7.78-7.78 2.81-2.81c.8-.78.8-2.07 0-2.86zM5.41 20L4 18.59l7.72-7.72 1.47 1.35L5.41 20z\"/>\n",
              "  </svg>\n",
              "      </button>\n",
              "      \n",
              "  <style>\n",
              "    .colab-df-container {\n",
              "      display:flex;\n",
              "      flex-wrap:wrap;\n",
              "      gap: 12px;\n",
              "    }\n",
              "\n",
              "    .colab-df-convert {\n",
              "      background-color: #E8F0FE;\n",
              "      border: none;\n",
              "      border-radius: 50%;\n",
              "      cursor: pointer;\n",
              "      display: none;\n",
              "      fill: #1967D2;\n",
              "      height: 32px;\n",
              "      padding: 0 0 0 0;\n",
              "      width: 32px;\n",
              "    }\n",
              "\n",
              "    .colab-df-convert:hover {\n",
              "      background-color: #E2EBFA;\n",
              "      box-shadow: 0px 1px 2px rgba(60, 64, 67, 0.3), 0px 1px 3px 1px rgba(60, 64, 67, 0.15);\n",
              "      fill: #174EA6;\n",
              "    }\n",
              "\n",
              "    [theme=dark] .colab-df-convert {\n",
              "      background-color: #3B4455;\n",
              "      fill: #D2E3FC;\n",
              "    }\n",
              "\n",
              "    [theme=dark] .colab-df-convert:hover {\n",
              "      background-color: #434B5C;\n",
              "      box-shadow: 0px 1px 3px 1px rgba(0, 0, 0, 0.15);\n",
              "      filter: drop-shadow(0px 1px 2px rgba(0, 0, 0, 0.3));\n",
              "      fill: #FFFFFF;\n",
              "    }\n",
              "  </style>\n",
              "\n",
              "      <script>\n",
              "        const buttonEl =\n",
              "          document.querySelector('#df-49b34cea-865c-4b70-8300-b74d9f059aee button.colab-df-convert');\n",
              "        buttonEl.style.display =\n",
              "          google.colab.kernel.accessAllowed ? 'block' : 'none';\n",
              "\n",
              "        async function convertToInteractive(key) {\n",
              "          const element = document.querySelector('#df-49b34cea-865c-4b70-8300-b74d9f059aee');\n",
              "          const dataTable =\n",
              "            await google.colab.kernel.invokeFunction('convertToInteractive',\n",
              "                                                     [key], {});\n",
              "          if (!dataTable) return;\n",
              "\n",
              "          const docLinkHtml = 'Like what you see? Visit the ' +\n",
              "            '<a target=\"_blank\" href=https://colab.research.google.com/notebooks/data_table.ipynb>data table notebook</a>'\n",
              "            + ' to learn more about interactive tables.';\n",
              "          element.innerHTML = '';\n",
              "          dataTable['output_type'] = 'display_data';\n",
              "          await google.colab.output.renderOutput(dataTable, element);\n",
              "          const docLink = document.createElement('div');\n",
              "          docLink.innerHTML = docLinkHtml;\n",
              "          element.appendChild(docLink);\n",
              "        }\n",
              "      </script>\n",
              "    </div>\n",
              "  </div>\n",
              "  "
            ]
          },
          "metadata": {},
          "execution_count": 22
        }
      ]
    },
    {
      "cell_type": "markdown",
      "source": [
        "**Combine Query and product Text Columns**\n",
        "\n"
      ],
      "metadata": {
        "id": "GIMSmNMyMCnL"
      }
    },
    {
      "cell_type": "code",
      "source": [
        "columns = ['query','product_text']\n",
        "us_train_product_df['query_product_text'] = us_train_product_df[columns].apply(lambda row: ' '.join(row.values.astype(str)), axis=1)"
      ],
      "metadata": {
        "id": "rcVOuqE5L9WQ"
      },
      "execution_count": 18,
      "outputs": []
    },
    {
      "cell_type": "code",
      "source": [
        "us_train_product_df.head(5)"
      ],
      "metadata": {
        "colab": {
          "base_uri": "https://localhost:8080/",
          "height": 583
        },
        "id": "GqcXT55XvkKC",
        "outputId": "b5ad6ddc-5806-431e-c904-b5f6fea249fe"
      },
      "execution_count": 41,
      "outputs": [
        {
          "output_type": "execute_result",
          "data": {
            "text/plain": [
              "   example_id           query  product_id query_locale  esci_label  \\\n",
              "0      249721   revent 80 cfm  B000MOO21W           us  irrelevant   \n",
              "1      249722   revent 80 cfm  B001E6DMKY           us       exact   \n",
              "2      249723   revent 80 cfm  B003O0MNGC           us       exact   \n",
              "3      249724   revent 80 cfm  B00MARNO5Y           us       exact   \n",
              "4      249725   revent 80 cfm  B00XBZFWWM           us       exact   \n",
              "\n",
              "                                       product_title product_description  \\\n",
              "0  Panasonic FV-20VQ3 WhisperCeiling 190 CFM Ceil...                       \n",
              "1  Broan Very Quiet Ceiling Bathroom Exhaust Fan,...                       \n",
              "2  Delta BreezSignature VFB25ACH 80 CFM Exhaust B...                       \n",
              "3  Aero Pure AP80RVLW Super Quiet 80 CFM Recessed...                       \n",
              "4  Panasonic FV-0811VF5 WhisperFit EZ Retrofit Ve...                       \n",
              "\n",
              "                                product_bullet_point  \\\n",
              "0  WhisperCeiling fans feature a totally enclosed...   \n",
              "1  HIGH-QUALITY FAN: Very quiet, energy efficient...   \n",
              "2  Virtually silent at less than 0.3 sones\\nPreci...   \n",
              "3  Super quiet 80CFM energy efficient fan virtual...   \n",
              "4  Retrofit Solution: Ideal for residential remod...   \n",
              "\n",
              "                       product_brand product_color_name product_locale  \\\n",
              "0                          Panasonic              White             us   \n",
              "1                       Broan-NuTone              White             us   \n",
              "2  DELTA ELECTRONICS (AMERICAS) LTD.              White             us   \n",
              "3                          Aero Pure              White             us   \n",
              "4                          Panasonic              White             us   \n",
              "\n",
              "                                        product_text  \\\n",
              "0  Panasonic FV-20VQ3 WhisperCeiling 190 CFM Ceil...   \n",
              "1  Broan Very Quiet Ceiling Bathroom Exhaust Fan,...   \n",
              "2  Delta BreezSignature VFB25ACH 80 CFM Exhaust B...   \n",
              "3  Aero Pure AP80RVLW Super Quiet 80 CFM Recessed...   \n",
              "4  Panasonic FV-0811VF5 WhisperFit EZ Retrofit Ve...   \n",
              "\n",
              "                                  query_product_text  \n",
              "0   revent 80 cfm Panasonic FV-20VQ3 WhisperCeili...  \n",
              "1   revent 80 cfm Broan Very Quiet Ceiling Bathro...  \n",
              "2   revent 80 cfm Delta BreezSignature VFB25ACH 8...  \n",
              "3   revent 80 cfm Aero Pure AP80RVLW Super Quiet ...  \n",
              "4   revent 80 cfm Panasonic FV-0811VF5 WhisperFit...  "
            ],
            "text/html": [
              "\n",
              "  <div id=\"df-9164b820-8e17-4c18-9cd9-76a66fda4078\">\n",
              "    <div class=\"colab-df-container\">\n",
              "      <div>\n",
              "<style scoped>\n",
              "    .dataframe tbody tr th:only-of-type {\n",
              "        vertical-align: middle;\n",
              "    }\n",
              "\n",
              "    .dataframe tbody tr th {\n",
              "        vertical-align: top;\n",
              "    }\n",
              "\n",
              "    .dataframe thead th {\n",
              "        text-align: right;\n",
              "    }\n",
              "</style>\n",
              "<table border=\"1\" class=\"dataframe\">\n",
              "  <thead>\n",
              "    <tr style=\"text-align: right;\">\n",
              "      <th></th>\n",
              "      <th>example_id</th>\n",
              "      <th>query</th>\n",
              "      <th>product_id</th>\n",
              "      <th>query_locale</th>\n",
              "      <th>esci_label</th>\n",
              "      <th>product_title</th>\n",
              "      <th>product_description</th>\n",
              "      <th>product_bullet_point</th>\n",
              "      <th>product_brand</th>\n",
              "      <th>product_color_name</th>\n",
              "      <th>product_locale</th>\n",
              "      <th>product_text</th>\n",
              "      <th>query_product_text</th>\n",
              "    </tr>\n",
              "  </thead>\n",
              "  <tbody>\n",
              "    <tr>\n",
              "      <th>0</th>\n",
              "      <td>249721</td>\n",
              "      <td>revent 80 cfm</td>\n",
              "      <td>B000MOO21W</td>\n",
              "      <td>us</td>\n",
              "      <td>irrelevant</td>\n",
              "      <td>Panasonic FV-20VQ3 WhisperCeiling 190 CFM Ceil...</td>\n",
              "      <td></td>\n",
              "      <td>WhisperCeiling fans feature a totally enclosed...</td>\n",
              "      <td>Panasonic</td>\n",
              "      <td>White</td>\n",
              "      <td>us</td>\n",
              "      <td>Panasonic FV-20VQ3 WhisperCeiling 190 CFM Ceil...</td>\n",
              "      <td>revent 80 cfm Panasonic FV-20VQ3 WhisperCeili...</td>\n",
              "    </tr>\n",
              "    <tr>\n",
              "      <th>1</th>\n",
              "      <td>249722</td>\n",
              "      <td>revent 80 cfm</td>\n",
              "      <td>B001E6DMKY</td>\n",
              "      <td>us</td>\n",
              "      <td>exact</td>\n",
              "      <td>Broan Very Quiet Ceiling Bathroom Exhaust Fan,...</td>\n",
              "      <td></td>\n",
              "      <td>HIGH-QUALITY FAN: Very quiet, energy efficient...</td>\n",
              "      <td>Broan-NuTone</td>\n",
              "      <td>White</td>\n",
              "      <td>us</td>\n",
              "      <td>Broan Very Quiet Ceiling Bathroom Exhaust Fan,...</td>\n",
              "      <td>revent 80 cfm Broan Very Quiet Ceiling Bathro...</td>\n",
              "    </tr>\n",
              "    <tr>\n",
              "      <th>2</th>\n",
              "      <td>249723</td>\n",
              "      <td>revent 80 cfm</td>\n",
              "      <td>B003O0MNGC</td>\n",
              "      <td>us</td>\n",
              "      <td>exact</td>\n",
              "      <td>Delta BreezSignature VFB25ACH 80 CFM Exhaust B...</td>\n",
              "      <td></td>\n",
              "      <td>Virtually silent at less than 0.3 sones\\nPreci...</td>\n",
              "      <td>DELTA ELECTRONICS (AMERICAS) LTD.</td>\n",
              "      <td>White</td>\n",
              "      <td>us</td>\n",
              "      <td>Delta BreezSignature VFB25ACH 80 CFM Exhaust B...</td>\n",
              "      <td>revent 80 cfm Delta BreezSignature VFB25ACH 8...</td>\n",
              "    </tr>\n",
              "    <tr>\n",
              "      <th>3</th>\n",
              "      <td>249724</td>\n",
              "      <td>revent 80 cfm</td>\n",
              "      <td>B00MARNO5Y</td>\n",
              "      <td>us</td>\n",
              "      <td>exact</td>\n",
              "      <td>Aero Pure AP80RVLW Super Quiet 80 CFM Recessed...</td>\n",
              "      <td></td>\n",
              "      <td>Super quiet 80CFM energy efficient fan virtual...</td>\n",
              "      <td>Aero Pure</td>\n",
              "      <td>White</td>\n",
              "      <td>us</td>\n",
              "      <td>Aero Pure AP80RVLW Super Quiet 80 CFM Recessed...</td>\n",
              "      <td>revent 80 cfm Aero Pure AP80RVLW Super Quiet ...</td>\n",
              "    </tr>\n",
              "    <tr>\n",
              "      <th>4</th>\n",
              "      <td>249725</td>\n",
              "      <td>revent 80 cfm</td>\n",
              "      <td>B00XBZFWWM</td>\n",
              "      <td>us</td>\n",
              "      <td>exact</td>\n",
              "      <td>Panasonic FV-0811VF5 WhisperFit EZ Retrofit Ve...</td>\n",
              "      <td></td>\n",
              "      <td>Retrofit Solution: Ideal for residential remod...</td>\n",
              "      <td>Panasonic</td>\n",
              "      <td>White</td>\n",
              "      <td>us</td>\n",
              "      <td>Panasonic FV-0811VF5 WhisperFit EZ Retrofit Ve...</td>\n",
              "      <td>revent 80 cfm Panasonic FV-0811VF5 WhisperFit...</td>\n",
              "    </tr>\n",
              "  </tbody>\n",
              "</table>\n",
              "</div>\n",
              "      <button class=\"colab-df-convert\" onclick=\"convertToInteractive('df-9164b820-8e17-4c18-9cd9-76a66fda4078')\"\n",
              "              title=\"Convert this dataframe to an interactive table.\"\n",
              "              style=\"display:none;\">\n",
              "        \n",
              "  <svg xmlns=\"http://www.w3.org/2000/svg\" height=\"24px\"viewBox=\"0 0 24 24\"\n",
              "       width=\"24px\">\n",
              "    <path d=\"M0 0h24v24H0V0z\" fill=\"none\"/>\n",
              "    <path d=\"M18.56 5.44l.94 2.06.94-2.06 2.06-.94-2.06-.94-.94-2.06-.94 2.06-2.06.94zm-11 1L8.5 8.5l.94-2.06 2.06-.94-2.06-.94L8.5 2.5l-.94 2.06-2.06.94zm10 10l.94 2.06.94-2.06 2.06-.94-2.06-.94-.94-2.06-.94 2.06-2.06.94z\"/><path d=\"M17.41 7.96l-1.37-1.37c-.4-.4-.92-.59-1.43-.59-.52 0-1.04.2-1.43.59L10.3 9.45l-7.72 7.72c-.78.78-.78 2.05 0 2.83L4 21.41c.39.39.9.59 1.41.59.51 0 1.02-.2 1.41-.59l7.78-7.78 2.81-2.81c.8-.78.8-2.07 0-2.86zM5.41 20L4 18.59l7.72-7.72 1.47 1.35L5.41 20z\"/>\n",
              "  </svg>\n",
              "      </button>\n",
              "      \n",
              "  <style>\n",
              "    .colab-df-container {\n",
              "      display:flex;\n",
              "      flex-wrap:wrap;\n",
              "      gap: 12px;\n",
              "    }\n",
              "\n",
              "    .colab-df-convert {\n",
              "      background-color: #E8F0FE;\n",
              "      border: none;\n",
              "      border-radius: 50%;\n",
              "      cursor: pointer;\n",
              "      display: none;\n",
              "      fill: #1967D2;\n",
              "      height: 32px;\n",
              "      padding: 0 0 0 0;\n",
              "      width: 32px;\n",
              "    }\n",
              "\n",
              "    .colab-df-convert:hover {\n",
              "      background-color: #E2EBFA;\n",
              "      box-shadow: 0px 1px 2px rgba(60, 64, 67, 0.3), 0px 1px 3px 1px rgba(60, 64, 67, 0.15);\n",
              "      fill: #174EA6;\n",
              "    }\n",
              "\n",
              "    [theme=dark] .colab-df-convert {\n",
              "      background-color: #3B4455;\n",
              "      fill: #D2E3FC;\n",
              "    }\n",
              "\n",
              "    [theme=dark] .colab-df-convert:hover {\n",
              "      background-color: #434B5C;\n",
              "      box-shadow: 0px 1px 3px 1px rgba(0, 0, 0, 0.15);\n",
              "      filter: drop-shadow(0px 1px 2px rgba(0, 0, 0, 0.3));\n",
              "      fill: #FFFFFF;\n",
              "    }\n",
              "  </style>\n",
              "\n",
              "      <script>\n",
              "        const buttonEl =\n",
              "          document.querySelector('#df-9164b820-8e17-4c18-9cd9-76a66fda4078 button.colab-df-convert');\n",
              "        buttonEl.style.display =\n",
              "          google.colab.kernel.accessAllowed ? 'block' : 'none';\n",
              "\n",
              "        async function convertToInteractive(key) {\n",
              "          const element = document.querySelector('#df-9164b820-8e17-4c18-9cd9-76a66fda4078');\n",
              "          const dataTable =\n",
              "            await google.colab.kernel.invokeFunction('convertToInteractive',\n",
              "                                                     [key], {});\n",
              "          if (!dataTable) return;\n",
              "\n",
              "          const docLinkHtml = 'Like what you see? Visit the ' +\n",
              "            '<a target=\"_blank\" href=https://colab.research.google.com/notebooks/data_table.ipynb>data table notebook</a>'\n",
              "            + ' to learn more about interactive tables.';\n",
              "          element.innerHTML = '';\n",
              "          dataTable['output_type'] = 'display_data';\n",
              "          await google.colab.output.renderOutput(dataTable, element);\n",
              "          const docLink = document.createElement('div');\n",
              "          docLink.innerHTML = docLinkHtml;\n",
              "          element.appendChild(docLink);\n",
              "        }\n",
              "      </script>\n",
              "    </div>\n",
              "  </div>\n",
              "  "
            ]
          },
          "metadata": {},
          "execution_count": 41
        }
      ]
    },
    {
      "cell_type": "code",
      "source": [
        "us_train_product_modified_df = us_train_product_df[['example_id', 'query', 'product_id','esci_label', 'product_text','query_product_text']].copy()"
      ],
      "metadata": {
        "id": "Q8E64FkrwyQp"
      },
      "execution_count": 40,
      "outputs": []
    },
    {
      "cell_type": "code",
      "source": [
        "us_train_product_modified_df.head(5)"
      ],
      "metadata": {
        "colab": {
          "base_uri": "https://localhost:8080/",
          "height": 206
        },
        "id": "-F0d3uVxyjx-",
        "outputId": "2e49ce1a-5ee9-43da-8238-c5ef4eeaaeb4"
      },
      "execution_count": 44,
      "outputs": [
        {
          "output_type": "execute_result",
          "data": {
            "text/plain": [
              "   example_id           query  product_id  esci_label  \\\n",
              "0      249721   revent 80 cfm  B000MOO21W  irrelevant   \n",
              "1      249722   revent 80 cfm  B001E6DMKY       exact   \n",
              "2      249723   revent 80 cfm  B003O0MNGC       exact   \n",
              "3      249724   revent 80 cfm  B00MARNO5Y       exact   \n",
              "4      249725   revent 80 cfm  B00XBZFWWM       exact   \n",
              "\n",
              "                                        product_text  \\\n",
              "0  Panasonic FV-20VQ3 WhisperCeiling 190 CFM Ceil...   \n",
              "1  Broan Very Quiet Ceiling Bathroom Exhaust Fan,...   \n",
              "2  Delta BreezSignature VFB25ACH 80 CFM Exhaust B...   \n",
              "3  Aero Pure AP80RVLW Super Quiet 80 CFM Recessed...   \n",
              "4  Panasonic FV-0811VF5 WhisperFit EZ Retrofit Ve...   \n",
              "\n",
              "                                  query_product_text  \n",
              "0   revent 80 cfm Panasonic FV-20VQ3 WhisperCeili...  \n",
              "1   revent 80 cfm Broan Very Quiet Ceiling Bathro...  \n",
              "2   revent 80 cfm Delta BreezSignature VFB25ACH 8...  \n",
              "3   revent 80 cfm Aero Pure AP80RVLW Super Quiet ...  \n",
              "4   revent 80 cfm Panasonic FV-0811VF5 WhisperFit...  "
            ],
            "text/html": [
              "\n",
              "  <div id=\"df-a15d8d44-90cb-4bba-9c5a-3af6a0723784\">\n",
              "    <div class=\"colab-df-container\">\n",
              "      <div>\n",
              "<style scoped>\n",
              "    .dataframe tbody tr th:only-of-type {\n",
              "        vertical-align: middle;\n",
              "    }\n",
              "\n",
              "    .dataframe tbody tr th {\n",
              "        vertical-align: top;\n",
              "    }\n",
              "\n",
              "    .dataframe thead th {\n",
              "        text-align: right;\n",
              "    }\n",
              "</style>\n",
              "<table border=\"1\" class=\"dataframe\">\n",
              "  <thead>\n",
              "    <tr style=\"text-align: right;\">\n",
              "      <th></th>\n",
              "      <th>example_id</th>\n",
              "      <th>query</th>\n",
              "      <th>product_id</th>\n",
              "      <th>esci_label</th>\n",
              "      <th>product_text</th>\n",
              "      <th>query_product_text</th>\n",
              "    </tr>\n",
              "  </thead>\n",
              "  <tbody>\n",
              "    <tr>\n",
              "      <th>0</th>\n",
              "      <td>249721</td>\n",
              "      <td>revent 80 cfm</td>\n",
              "      <td>B000MOO21W</td>\n",
              "      <td>irrelevant</td>\n",
              "      <td>Panasonic FV-20VQ3 WhisperCeiling 190 CFM Ceil...</td>\n",
              "      <td>revent 80 cfm Panasonic FV-20VQ3 WhisperCeili...</td>\n",
              "    </tr>\n",
              "    <tr>\n",
              "      <th>1</th>\n",
              "      <td>249722</td>\n",
              "      <td>revent 80 cfm</td>\n",
              "      <td>B001E6DMKY</td>\n",
              "      <td>exact</td>\n",
              "      <td>Broan Very Quiet Ceiling Bathroom Exhaust Fan,...</td>\n",
              "      <td>revent 80 cfm Broan Very Quiet Ceiling Bathro...</td>\n",
              "    </tr>\n",
              "    <tr>\n",
              "      <th>2</th>\n",
              "      <td>249723</td>\n",
              "      <td>revent 80 cfm</td>\n",
              "      <td>B003O0MNGC</td>\n",
              "      <td>exact</td>\n",
              "      <td>Delta BreezSignature VFB25ACH 80 CFM Exhaust B...</td>\n",
              "      <td>revent 80 cfm Delta BreezSignature VFB25ACH 8...</td>\n",
              "    </tr>\n",
              "    <tr>\n",
              "      <th>3</th>\n",
              "      <td>249724</td>\n",
              "      <td>revent 80 cfm</td>\n",
              "      <td>B00MARNO5Y</td>\n",
              "      <td>exact</td>\n",
              "      <td>Aero Pure AP80RVLW Super Quiet 80 CFM Recessed...</td>\n",
              "      <td>revent 80 cfm Aero Pure AP80RVLW Super Quiet ...</td>\n",
              "    </tr>\n",
              "    <tr>\n",
              "      <th>4</th>\n",
              "      <td>249725</td>\n",
              "      <td>revent 80 cfm</td>\n",
              "      <td>B00XBZFWWM</td>\n",
              "      <td>exact</td>\n",
              "      <td>Panasonic FV-0811VF5 WhisperFit EZ Retrofit Ve...</td>\n",
              "      <td>revent 80 cfm Panasonic FV-0811VF5 WhisperFit...</td>\n",
              "    </tr>\n",
              "  </tbody>\n",
              "</table>\n",
              "</div>\n",
              "      <button class=\"colab-df-convert\" onclick=\"convertToInteractive('df-a15d8d44-90cb-4bba-9c5a-3af6a0723784')\"\n",
              "              title=\"Convert this dataframe to an interactive table.\"\n",
              "              style=\"display:none;\">\n",
              "        \n",
              "  <svg xmlns=\"http://www.w3.org/2000/svg\" height=\"24px\"viewBox=\"0 0 24 24\"\n",
              "       width=\"24px\">\n",
              "    <path d=\"M0 0h24v24H0V0z\" fill=\"none\"/>\n",
              "    <path d=\"M18.56 5.44l.94 2.06.94-2.06 2.06-.94-2.06-.94-.94-2.06-.94 2.06-2.06.94zm-11 1L8.5 8.5l.94-2.06 2.06-.94-2.06-.94L8.5 2.5l-.94 2.06-2.06.94zm10 10l.94 2.06.94-2.06 2.06-.94-2.06-.94-.94-2.06-.94 2.06-2.06.94z\"/><path d=\"M17.41 7.96l-1.37-1.37c-.4-.4-.92-.59-1.43-.59-.52 0-1.04.2-1.43.59L10.3 9.45l-7.72 7.72c-.78.78-.78 2.05 0 2.83L4 21.41c.39.39.9.59 1.41.59.51 0 1.02-.2 1.41-.59l7.78-7.78 2.81-2.81c.8-.78.8-2.07 0-2.86zM5.41 20L4 18.59l7.72-7.72 1.47 1.35L5.41 20z\"/>\n",
              "  </svg>\n",
              "      </button>\n",
              "      \n",
              "  <style>\n",
              "    .colab-df-container {\n",
              "      display:flex;\n",
              "      flex-wrap:wrap;\n",
              "      gap: 12px;\n",
              "    }\n",
              "\n",
              "    .colab-df-convert {\n",
              "      background-color: #E8F0FE;\n",
              "      border: none;\n",
              "      border-radius: 50%;\n",
              "      cursor: pointer;\n",
              "      display: none;\n",
              "      fill: #1967D2;\n",
              "      height: 32px;\n",
              "      padding: 0 0 0 0;\n",
              "      width: 32px;\n",
              "    }\n",
              "\n",
              "    .colab-df-convert:hover {\n",
              "      background-color: #E2EBFA;\n",
              "      box-shadow: 0px 1px 2px rgba(60, 64, 67, 0.3), 0px 1px 3px 1px rgba(60, 64, 67, 0.15);\n",
              "      fill: #174EA6;\n",
              "    }\n",
              "\n",
              "    [theme=dark] .colab-df-convert {\n",
              "      background-color: #3B4455;\n",
              "      fill: #D2E3FC;\n",
              "    }\n",
              "\n",
              "    [theme=dark] .colab-df-convert:hover {\n",
              "      background-color: #434B5C;\n",
              "      box-shadow: 0px 1px 3px 1px rgba(0, 0, 0, 0.15);\n",
              "      filter: drop-shadow(0px 1px 2px rgba(0, 0, 0, 0.3));\n",
              "      fill: #FFFFFF;\n",
              "    }\n",
              "  </style>\n",
              "\n",
              "      <script>\n",
              "        const buttonEl =\n",
              "          document.querySelector('#df-a15d8d44-90cb-4bba-9c5a-3af6a0723784 button.colab-df-convert');\n",
              "        buttonEl.style.display =\n",
              "          google.colab.kernel.accessAllowed ? 'block' : 'none';\n",
              "\n",
              "        async function convertToInteractive(key) {\n",
              "          const element = document.querySelector('#df-a15d8d44-90cb-4bba-9c5a-3af6a0723784');\n",
              "          const dataTable =\n",
              "            await google.colab.kernel.invokeFunction('convertToInteractive',\n",
              "                                                     [key], {});\n",
              "          if (!dataTable) return;\n",
              "\n",
              "          const docLinkHtml = 'Like what you see? Visit the ' +\n",
              "            '<a target=\"_blank\" href=https://colab.research.google.com/notebooks/data_table.ipynb>data table notebook</a>'\n",
              "            + ' to learn more about interactive tables.';\n",
              "          element.innerHTML = '';\n",
              "          dataTable['output_type'] = 'display_data';\n",
              "          await google.colab.output.renderOutput(dataTable, element);\n",
              "          const docLink = document.createElement('div');\n",
              "          docLink.innerHTML = docLinkHtml;\n",
              "          element.appendChild(docLink);\n",
              "        }\n",
              "      </script>\n",
              "    </div>\n",
              "  </div>\n",
              "  "
            ]
          },
          "metadata": {},
          "execution_count": 44
        }
      ]
    },
    {
      "cell_type": "code",
      "source": [
        "from sklearn.utils import shuffle\n",
        "\n",
        "us_train_product_modified_df = shuffle(us_train_product_modified_df)\n",
        "\n",
        "us_train_product_modified_sampe_df = us_train_product_modified_df.sample(n = 33333)"
      ],
      "metadata": {
        "id": "fdfLQQS2xFEh"
      },
      "execution_count": 45,
      "outputs": []
    },
    {
      "cell_type": "code",
      "source": [
        "us_train_product_modified_sampe_df.head(5)"
      ],
      "metadata": {
        "colab": {
          "base_uri": "https://localhost:8080/",
          "height": 206
        },
        "id": "WMHDuvvFxWsS",
        "outputId": "2e079299-cf09-4b53-cbad-cca9c929676b"
      },
      "execution_count": 46,
      "outputs": [
        {
          "output_type": "execute_result",
          "data": {
            "text/plain": [
              "         example_id                                    query  product_id  \\\n",
              "339928       589649                              elite socks  B07TBT7CBK   \n",
              "583677       833398                          litter box dome  B000256ESU   \n",
              "108018       357739                 backpacks for highschool  B07PF7M6R8   \n",
              "808638      1058359                  rhinestone tower crowns  B07D987GJS   \n",
              "1141614     1391335  10 frame medium hive box without frames  B0933NYCDZ   \n",
              "\n",
              "         esci_label                                       product_text  \\\n",
              "339928        exact  Basketball Socks Men's Outdoor Athletic Crew S...   \n",
              "583677   complement  Petmate Cleanstep Litter Box Liners, Jumbo, 8 ...   \n",
              "108018        exact  MATEIN High School Backpack, College Middle Hi...   \n",
              "808638        exact  FUMUD Silver Color Baroque Vintage Eiffel Towe...   \n",
              "1141614       exact  Top Chimney Feeder for Langstroth Wooden Beehi...   \n",
              "\n",
              "                                        query_product_text  \n",
              "339928   elite socks Basketball Socks Men's Outdoor Ath...  \n",
              "583677   litter box dome Petmate Cleanstep Litter Box L...  \n",
              "108018   backpacks for highschool MATEIN High School Ba...  \n",
              "808638   rhinestone tower crowns FUMUD Silver Color Bar...  \n",
              "1141614  10 frame medium hive box without frames Top Ch...  "
            ],
            "text/html": [
              "\n",
              "  <div id=\"df-dbd71da2-f118-4411-b5d0-26d0503ec7fb\">\n",
              "    <div class=\"colab-df-container\">\n",
              "      <div>\n",
              "<style scoped>\n",
              "    .dataframe tbody tr th:only-of-type {\n",
              "        vertical-align: middle;\n",
              "    }\n",
              "\n",
              "    .dataframe tbody tr th {\n",
              "        vertical-align: top;\n",
              "    }\n",
              "\n",
              "    .dataframe thead th {\n",
              "        text-align: right;\n",
              "    }\n",
              "</style>\n",
              "<table border=\"1\" class=\"dataframe\">\n",
              "  <thead>\n",
              "    <tr style=\"text-align: right;\">\n",
              "      <th></th>\n",
              "      <th>example_id</th>\n",
              "      <th>query</th>\n",
              "      <th>product_id</th>\n",
              "      <th>esci_label</th>\n",
              "      <th>product_text</th>\n",
              "      <th>query_product_text</th>\n",
              "    </tr>\n",
              "  </thead>\n",
              "  <tbody>\n",
              "    <tr>\n",
              "      <th>339928</th>\n",
              "      <td>589649</td>\n",
              "      <td>elite socks</td>\n",
              "      <td>B07TBT7CBK</td>\n",
              "      <td>exact</td>\n",
              "      <td>Basketball Socks Men's Outdoor Athletic Crew S...</td>\n",
              "      <td>elite socks Basketball Socks Men's Outdoor Ath...</td>\n",
              "    </tr>\n",
              "    <tr>\n",
              "      <th>583677</th>\n",
              "      <td>833398</td>\n",
              "      <td>litter box dome</td>\n",
              "      <td>B000256ESU</td>\n",
              "      <td>complement</td>\n",
              "      <td>Petmate Cleanstep Litter Box Liners, Jumbo, 8 ...</td>\n",
              "      <td>litter box dome Petmate Cleanstep Litter Box L...</td>\n",
              "    </tr>\n",
              "    <tr>\n",
              "      <th>108018</th>\n",
              "      <td>357739</td>\n",
              "      <td>backpacks for highschool</td>\n",
              "      <td>B07PF7M6R8</td>\n",
              "      <td>exact</td>\n",
              "      <td>MATEIN High School Backpack, College Middle Hi...</td>\n",
              "      <td>backpacks for highschool MATEIN High School Ba...</td>\n",
              "    </tr>\n",
              "    <tr>\n",
              "      <th>808638</th>\n",
              "      <td>1058359</td>\n",
              "      <td>rhinestone tower crowns</td>\n",
              "      <td>B07D987GJS</td>\n",
              "      <td>exact</td>\n",
              "      <td>FUMUD Silver Color Baroque Vintage Eiffel Towe...</td>\n",
              "      <td>rhinestone tower crowns FUMUD Silver Color Bar...</td>\n",
              "    </tr>\n",
              "    <tr>\n",
              "      <th>1141614</th>\n",
              "      <td>1391335</td>\n",
              "      <td>10 frame medium hive box without frames</td>\n",
              "      <td>B0933NYCDZ</td>\n",
              "      <td>exact</td>\n",
              "      <td>Top Chimney Feeder for Langstroth Wooden Beehi...</td>\n",
              "      <td>10 frame medium hive box without frames Top Ch...</td>\n",
              "    </tr>\n",
              "  </tbody>\n",
              "</table>\n",
              "</div>\n",
              "      <button class=\"colab-df-convert\" onclick=\"convertToInteractive('df-dbd71da2-f118-4411-b5d0-26d0503ec7fb')\"\n",
              "              title=\"Convert this dataframe to an interactive table.\"\n",
              "              style=\"display:none;\">\n",
              "        \n",
              "  <svg xmlns=\"http://www.w3.org/2000/svg\" height=\"24px\"viewBox=\"0 0 24 24\"\n",
              "       width=\"24px\">\n",
              "    <path d=\"M0 0h24v24H0V0z\" fill=\"none\"/>\n",
              "    <path d=\"M18.56 5.44l.94 2.06.94-2.06 2.06-.94-2.06-.94-.94-2.06-.94 2.06-2.06.94zm-11 1L8.5 8.5l.94-2.06 2.06-.94-2.06-.94L8.5 2.5l-.94 2.06-2.06.94zm10 10l.94 2.06.94-2.06 2.06-.94-2.06-.94-.94-2.06-.94 2.06-2.06.94z\"/><path d=\"M17.41 7.96l-1.37-1.37c-.4-.4-.92-.59-1.43-.59-.52 0-1.04.2-1.43.59L10.3 9.45l-7.72 7.72c-.78.78-.78 2.05 0 2.83L4 21.41c.39.39.9.59 1.41.59.51 0 1.02-.2 1.41-.59l7.78-7.78 2.81-2.81c.8-.78.8-2.07 0-2.86zM5.41 20L4 18.59l7.72-7.72 1.47 1.35L5.41 20z\"/>\n",
              "  </svg>\n",
              "      </button>\n",
              "      \n",
              "  <style>\n",
              "    .colab-df-container {\n",
              "      display:flex;\n",
              "      flex-wrap:wrap;\n",
              "      gap: 12px;\n",
              "    }\n",
              "\n",
              "    .colab-df-convert {\n",
              "      background-color: #E8F0FE;\n",
              "      border: none;\n",
              "      border-radius: 50%;\n",
              "      cursor: pointer;\n",
              "      display: none;\n",
              "      fill: #1967D2;\n",
              "      height: 32px;\n",
              "      padding: 0 0 0 0;\n",
              "      width: 32px;\n",
              "    }\n",
              "\n",
              "    .colab-df-convert:hover {\n",
              "      background-color: #E2EBFA;\n",
              "      box-shadow: 0px 1px 2px rgba(60, 64, 67, 0.3), 0px 1px 3px 1px rgba(60, 64, 67, 0.15);\n",
              "      fill: #174EA6;\n",
              "    }\n",
              "\n",
              "    [theme=dark] .colab-df-convert {\n",
              "      background-color: #3B4455;\n",
              "      fill: #D2E3FC;\n",
              "    }\n",
              "\n",
              "    [theme=dark] .colab-df-convert:hover {\n",
              "      background-color: #434B5C;\n",
              "      box-shadow: 0px 1px 3px 1px rgba(0, 0, 0, 0.15);\n",
              "      filter: drop-shadow(0px 1px 2px rgba(0, 0, 0, 0.3));\n",
              "      fill: #FFFFFF;\n",
              "    }\n",
              "  </style>\n",
              "\n",
              "      <script>\n",
              "        const buttonEl =\n",
              "          document.querySelector('#df-dbd71da2-f118-4411-b5d0-26d0503ec7fb button.colab-df-convert');\n",
              "        buttonEl.style.display =\n",
              "          google.colab.kernel.accessAllowed ? 'block' : 'none';\n",
              "\n",
              "        async function convertToInteractive(key) {\n",
              "          const element = document.querySelector('#df-dbd71da2-f118-4411-b5d0-26d0503ec7fb');\n",
              "          const dataTable =\n",
              "            await google.colab.kernel.invokeFunction('convertToInteractive',\n",
              "                                                     [key], {});\n",
              "          if (!dataTable) return;\n",
              "\n",
              "          const docLinkHtml = 'Like what you see? Visit the ' +\n",
              "            '<a target=\"_blank\" href=https://colab.research.google.com/notebooks/data_table.ipynb>data table notebook</a>'\n",
              "            + ' to learn more about interactive tables.';\n",
              "          element.innerHTML = '';\n",
              "          dataTable['output_type'] = 'display_data';\n",
              "          await google.colab.output.renderOutput(dataTable, element);\n",
              "          const docLink = document.createElement('div');\n",
              "          docLink.innerHTML = docLinkHtml;\n",
              "          element.appendChild(docLink);\n",
              "        }\n",
              "      </script>\n",
              "    </div>\n",
              "  </div>\n",
              "  "
            ]
          },
          "metadata": {},
          "execution_count": 46
        }
      ]
    },
    {
      "cell_type": "markdown",
      "source": [
        "# Data Cleaning"
      ],
      "metadata": {
        "id": "0aMoy2EBL2nn"
      }
    },
    {
      "cell_type": "markdown",
      "source": [
        "**Check Null Values**"
      ],
      "metadata": {
        "id": "_91wueWjJnXG"
      }
    },
    {
      "cell_type": "code",
      "source": [
        "us_train_product_modified_sampe_df.isnull().sum()"
      ],
      "metadata": {
        "colab": {
          "base_uri": "https://localhost:8080/"
        },
        "id": "7NKWhXt1LD9a",
        "outputId": "34327fb9-0591-4b76-e046-31c0a008e8fa"
      },
      "execution_count": 47,
      "outputs": [
        {
          "output_type": "execute_result",
          "data": {
            "text/plain": [
              "example_id            0\n",
              "query                 0\n",
              "product_id            0\n",
              "esci_label            0\n",
              "product_text          0\n",
              "query_product_text    0\n",
              "dtype: int64"
            ]
          },
          "metadata": {},
          "execution_count": 47
        }
      ]
    },
    {
      "cell_type": "markdown",
      "source": [
        "**Apply Preprocessing**"
      ],
      "metadata": {
        "id": "8-qvPDAlMb1e"
      }
    },
    {
      "cell_type": "code",
      "source": [
        "stop_words = stopwords.words('english')\n",
        "Stemmer = PorterStemmer()\n",
        "table = str.maketrans('', '', string.punctuation)\n",
        "\n",
        "def data_cleaning(text):\n",
        "  texts = re.sub(\"[^a-zA-Z]\", \" \", text)\n",
        "  texts = [texts.lower() for texts in text.split() if texts.lower() not in stop_words]\n",
        "  texts = [Stemmer.stem(t) for t in texts]\n",
        "  texts = [t.translate(table) for t in texts]\n",
        "  return \" \".join(texts)\n",
        "\n",
        "us_train_product_modified_sampe_df['query'] = us_train_product_modified_sampe_df['query'].apply(data_cleaning)\n",
        "us_train_product_modified_sampe_df['product_text'] = us_train_product_modified_sampe_df['product_text'].apply(data_cleaning)\n",
        "us_train_product_modified_sampe_df['query_product_text'] = us_train_product_modified_sampe_df['query_product_text'].apply(data_cleaning)"
      ],
      "metadata": {
        "id": "GuBWnSDRL5Ov"
      },
      "execution_count": 48,
      "outputs": []
    },
    {
      "cell_type": "code",
      "source": [
        "us_train_product_modified_sampe_df.head(5)"
      ],
      "metadata": {
        "id": "aXFYe1j7MjwC",
        "colab": {
          "base_uri": "https://localhost:8080/",
          "height": 206
        },
        "outputId": "538dff01-8579-45c1-b39e-c8ee6d7618a3"
      },
      "execution_count": 49,
      "outputs": [
        {
          "output_type": "execute_result",
          "data": {
            "text/plain": [
              "         example_id                                   query  product_id  \\\n",
              "339928       589649                               elit sock  B07TBT7CBK   \n",
              "583677       833398                         litter box dome  B000256ESU   \n",
              "108018       357739                     backpack highschool  B07PF7M6R8   \n",
              "808638      1058359                   rhineston tower crown  B07D987GJS   \n",
              "1141614     1391335  10 frame medium hive box without frame  B0933NYCDZ   \n",
              "\n",
              "         esci_label                                       product_text  \\\n",
              "339928        exact  basketbal sock men outdoor athlet crew sock cu...   \n",
              "583677   complement  petmat cleanstep litter box liners jumbo 8 cou...   \n",
              "108018        exact  matein high school backpack colleg middl high ...   \n",
              "808638        exact  fumud silver color baroqu vintag eiffel tower ...   \n",
              "1141614       exact  top chimney feeder langstroth wooden beehiv ap...   \n",
              "\n",
              "                                        query_product_text  \n",
              "339928   elit sock basketbal sock men outdoor athlet cr...  \n",
              "583677   litter box dome petmat cleanstep litter box li...  \n",
              "108018   backpack highschool matein high school backpac...  \n",
              "808638   rhineston tower crown fumud silver color baroq...  \n",
              "1141614  10 frame medium hive box without frame top chi...  "
            ],
            "text/html": [
              "\n",
              "  <div id=\"df-45d64db6-2ac4-40c7-a54c-df9e42cb580e\">\n",
              "    <div class=\"colab-df-container\">\n",
              "      <div>\n",
              "<style scoped>\n",
              "    .dataframe tbody tr th:only-of-type {\n",
              "        vertical-align: middle;\n",
              "    }\n",
              "\n",
              "    .dataframe tbody tr th {\n",
              "        vertical-align: top;\n",
              "    }\n",
              "\n",
              "    .dataframe thead th {\n",
              "        text-align: right;\n",
              "    }\n",
              "</style>\n",
              "<table border=\"1\" class=\"dataframe\">\n",
              "  <thead>\n",
              "    <tr style=\"text-align: right;\">\n",
              "      <th></th>\n",
              "      <th>example_id</th>\n",
              "      <th>query</th>\n",
              "      <th>product_id</th>\n",
              "      <th>esci_label</th>\n",
              "      <th>product_text</th>\n",
              "      <th>query_product_text</th>\n",
              "    </tr>\n",
              "  </thead>\n",
              "  <tbody>\n",
              "    <tr>\n",
              "      <th>339928</th>\n",
              "      <td>589649</td>\n",
              "      <td>elit sock</td>\n",
              "      <td>B07TBT7CBK</td>\n",
              "      <td>exact</td>\n",
              "      <td>basketbal sock men outdoor athlet crew sock cu...</td>\n",
              "      <td>elit sock basketbal sock men outdoor athlet cr...</td>\n",
              "    </tr>\n",
              "    <tr>\n",
              "      <th>583677</th>\n",
              "      <td>833398</td>\n",
              "      <td>litter box dome</td>\n",
              "      <td>B000256ESU</td>\n",
              "      <td>complement</td>\n",
              "      <td>petmat cleanstep litter box liners jumbo 8 cou...</td>\n",
              "      <td>litter box dome petmat cleanstep litter box li...</td>\n",
              "    </tr>\n",
              "    <tr>\n",
              "      <th>108018</th>\n",
              "      <td>357739</td>\n",
              "      <td>backpack highschool</td>\n",
              "      <td>B07PF7M6R8</td>\n",
              "      <td>exact</td>\n",
              "      <td>matein high school backpack colleg middl high ...</td>\n",
              "      <td>backpack highschool matein high school backpac...</td>\n",
              "    </tr>\n",
              "    <tr>\n",
              "      <th>808638</th>\n",
              "      <td>1058359</td>\n",
              "      <td>rhineston tower crown</td>\n",
              "      <td>B07D987GJS</td>\n",
              "      <td>exact</td>\n",
              "      <td>fumud silver color baroqu vintag eiffel tower ...</td>\n",
              "      <td>rhineston tower crown fumud silver color baroq...</td>\n",
              "    </tr>\n",
              "    <tr>\n",
              "      <th>1141614</th>\n",
              "      <td>1391335</td>\n",
              "      <td>10 frame medium hive box without frame</td>\n",
              "      <td>B0933NYCDZ</td>\n",
              "      <td>exact</td>\n",
              "      <td>top chimney feeder langstroth wooden beehiv ap...</td>\n",
              "      <td>10 frame medium hive box without frame top chi...</td>\n",
              "    </tr>\n",
              "  </tbody>\n",
              "</table>\n",
              "</div>\n",
              "      <button class=\"colab-df-convert\" onclick=\"convertToInteractive('df-45d64db6-2ac4-40c7-a54c-df9e42cb580e')\"\n",
              "              title=\"Convert this dataframe to an interactive table.\"\n",
              "              style=\"display:none;\">\n",
              "        \n",
              "  <svg xmlns=\"http://www.w3.org/2000/svg\" height=\"24px\"viewBox=\"0 0 24 24\"\n",
              "       width=\"24px\">\n",
              "    <path d=\"M0 0h24v24H0V0z\" fill=\"none\"/>\n",
              "    <path d=\"M18.56 5.44l.94 2.06.94-2.06 2.06-.94-2.06-.94-.94-2.06-.94 2.06-2.06.94zm-11 1L8.5 8.5l.94-2.06 2.06-.94-2.06-.94L8.5 2.5l-.94 2.06-2.06.94zm10 10l.94 2.06.94-2.06 2.06-.94-2.06-.94-.94-2.06-.94 2.06-2.06.94z\"/><path d=\"M17.41 7.96l-1.37-1.37c-.4-.4-.92-.59-1.43-.59-.52 0-1.04.2-1.43.59L10.3 9.45l-7.72 7.72c-.78.78-.78 2.05 0 2.83L4 21.41c.39.39.9.59 1.41.59.51 0 1.02-.2 1.41-.59l7.78-7.78 2.81-2.81c.8-.78.8-2.07 0-2.86zM5.41 20L4 18.59l7.72-7.72 1.47 1.35L5.41 20z\"/>\n",
              "  </svg>\n",
              "      </button>\n",
              "      \n",
              "  <style>\n",
              "    .colab-df-container {\n",
              "      display:flex;\n",
              "      flex-wrap:wrap;\n",
              "      gap: 12px;\n",
              "    }\n",
              "\n",
              "    .colab-df-convert {\n",
              "      background-color: #E8F0FE;\n",
              "      border: none;\n",
              "      border-radius: 50%;\n",
              "      cursor: pointer;\n",
              "      display: none;\n",
              "      fill: #1967D2;\n",
              "      height: 32px;\n",
              "      padding: 0 0 0 0;\n",
              "      width: 32px;\n",
              "    }\n",
              "\n",
              "    .colab-df-convert:hover {\n",
              "      background-color: #E2EBFA;\n",
              "      box-shadow: 0px 1px 2px rgba(60, 64, 67, 0.3), 0px 1px 3px 1px rgba(60, 64, 67, 0.15);\n",
              "      fill: #174EA6;\n",
              "    }\n",
              "\n",
              "    [theme=dark] .colab-df-convert {\n",
              "      background-color: #3B4455;\n",
              "      fill: #D2E3FC;\n",
              "    }\n",
              "\n",
              "    [theme=dark] .colab-df-convert:hover {\n",
              "      background-color: #434B5C;\n",
              "      box-shadow: 0px 1px 3px 1px rgba(0, 0, 0, 0.15);\n",
              "      filter: drop-shadow(0px 1px 2px rgba(0, 0, 0, 0.3));\n",
              "      fill: #FFFFFF;\n",
              "    }\n",
              "  </style>\n",
              "\n",
              "      <script>\n",
              "        const buttonEl =\n",
              "          document.querySelector('#df-45d64db6-2ac4-40c7-a54c-df9e42cb580e button.colab-df-convert');\n",
              "        buttonEl.style.display =\n",
              "          google.colab.kernel.accessAllowed ? 'block' : 'none';\n",
              "\n",
              "        async function convertToInteractive(key) {\n",
              "          const element = document.querySelector('#df-45d64db6-2ac4-40c7-a54c-df9e42cb580e');\n",
              "          const dataTable =\n",
              "            await google.colab.kernel.invokeFunction('convertToInteractive',\n",
              "                                                     [key], {});\n",
              "          if (!dataTable) return;\n",
              "\n",
              "          const docLinkHtml = 'Like what you see? Visit the ' +\n",
              "            '<a target=\"_blank\" href=https://colab.research.google.com/notebooks/data_table.ipynb>data table notebook</a>'\n",
              "            + ' to learn more about interactive tables.';\n",
              "          element.innerHTML = '';\n",
              "          dataTable['output_type'] = 'display_data';\n",
              "          await google.colab.output.renderOutput(dataTable, element);\n",
              "          const docLink = document.createElement('div');\n",
              "          docLink.innerHTML = docLinkHtml;\n",
              "          element.appendChild(docLink);\n",
              "        }\n",
              "      </script>\n",
              "    </div>\n",
              "  </div>\n",
              "  "
            ]
          },
          "metadata": {},
          "execution_count": 49
        }
      ]
    },
    {
      "cell_type": "code",
      "source": [
        "us_train_product_modified_sampe_df.isnull().sum()"
      ],
      "metadata": {
        "id": "RbqH8UiLMxmH",
        "colab": {
          "base_uri": "https://localhost:8080/"
        },
        "outputId": "bcd16170-3430-465a-eaf8-e000a2511c7c"
      },
      "execution_count": 50,
      "outputs": [
        {
          "output_type": "execute_result",
          "data": {
            "text/plain": [
              "example_id            0\n",
              "query                 0\n",
              "product_id            0\n",
              "esci_label            0\n",
              "product_text          0\n",
              "query_product_text    0\n",
              "dtype: int64"
            ]
          },
          "metadata": {},
          "execution_count": 50
        }
      ]
    },
    {
      "cell_type": "markdown",
      "source": [
        "# Data visualization"
      ],
      "metadata": {
        "id": "MDg_Kz_rMycD"
      }
    },
    {
      "cell_type": "markdown",
      "source": [
        "**visualization of target variables**"
      ],
      "metadata": {
        "id": "xCDbOEZMM7fd"
      }
    },
    {
      "cell_type": "code",
      "source": [
        "us_train_product_modified_sampe_df.esci_label.value_counts()"
      ],
      "metadata": {
        "id": "-np3UFLDNCi7",
        "colab": {
          "base_uri": "https://localhost:8080/"
        },
        "outputId": "15731bd3-2c8c-4a23-b4bb-359e724b9606"
      },
      "execution_count": 51,
      "outputs": [
        {
          "output_type": "execute_result",
          "data": {
            "text/plain": [
              "exact         22938\n",
              "substitute     6707\n",
              "irrelevant     2982\n",
              "complement      706\n",
              "Name: esci_label, dtype: int64"
            ]
          },
          "metadata": {},
          "execution_count": 51
        }
      ]
    },
    {
      "cell_type": "code",
      "source": [
        "us_train_product_modified_sampe_df.esci_label.value_counts().plot(kind='bar', title='ESCI Target Distribution', xlabel= 'Classes', ylabel = 'Count')\n",
        "plt.show()"
      ],
      "metadata": {
        "id": "jk5P9zfSNE3G",
        "colab": {
          "base_uri": "https://localhost:8080/",
          "height": 348
        },
        "outputId": "76323ec0-f041-44b3-cfea-307130450bec"
      },
      "execution_count": 52,
      "outputs": [
        {
          "output_type": "display_data",
          "data": {
            "text/plain": [
              "<Figure size 432x288 with 1 Axes>"
            ],
            "image/png": "[encoded data removed]"
          },
          "metadata": {
            "needs_background": "light"
          }
        }
      ]
    },
    {
      "cell_type": "markdown",
      "source": [
        "**visualization of target with query and product text**"
      ],
      "metadata": {
        "id": "sKlfDXeMNJxn"
      }
    },
    {
      "cell_type": "code",
      "source": [
        "us_train_product_modified_sampe_df['length_query_product_text'] = us_train_product_modified_sampe_df['query_product_text'].apply(len)"
      ],
      "metadata": {
        "id": "h0cTY1uNNUg3"
      },
      "execution_count": 53,
      "outputs": []
    },
    {
      "cell_type": "code",
      "source": [
        "us_train_product_modified_sampe_df.head(5)"
      ],
      "metadata": {
        "colab": {
          "base_uri": "https://localhost:8080/",
          "height": 250
        },
        "id": "O7agxt6IKmDm",
        "outputId": "ff9b8758-f859-429a-84bc-dde8e66eb6ad"
      },
      "execution_count": 66,
      "outputs": [
        {
          "output_type": "execute_result",
          "data": {
            "text/plain": [
              "         example_id                                   query  product_id  \\\n",
              "339928       589649                               elit sock  B07TBT7CBK   \n",
              "583677       833398                         litter box dome  B000256ESU   \n",
              "108018       357739                     backpack highschool  B07PF7M6R8   \n",
              "808638      1058359                   rhineston tower crown  B07D987GJS   \n",
              "1141614     1391335  10 frame medium hive box without frame  B0933NYCDZ   \n",
              "\n",
              "         esci_label                                       product_text  \\\n",
              "339928        exact  basketbal sock men outdoor athlet crew sock cu...   \n",
              "583677   complement  petmat cleanstep litter box liners jumbo 8 cou...   \n",
              "108018        exact  matein high school backpack colleg middl high ...   \n",
              "808638        exact  fumud silver color baroqu vintag eiffel tower ...   \n",
              "1141614       exact  top chimney feeder langstroth wooden beehiv ap...   \n",
              "\n",
              "                                        query_product_text  \\\n",
              "339928   elit sock basketbal sock men outdoor athlet cr...   \n",
              "583677   litter box dome petmat cleanstep litter box li...   \n",
              "108018   backpack highschool matein high school backpac...   \n",
              "808638   rhineston tower crown fumud silver color baroq...   \n",
              "1141614  10 frame medium hive box without frame top chi...   \n",
              "\n",
              "         length_query_product_text  \n",
              "339928                         933  \n",
              "583677                         152  \n",
              "108018                        1419  \n",
              "808638                         473  \n",
              "1141614                        481  "
            ],
            "text/html": [
              "\n",
              "  <div id=\"df-363ca15a-b76c-4035-990a-b6f014c83896\">\n",
              "    <div class=\"colab-df-container\">\n",
              "      <div>\n",
              "<style scoped>\n",
              "    .dataframe tbody tr th:only-of-type {\n",
              "        vertical-align: middle;\n",
              "    }\n",
              "\n",
              "    .dataframe tbody tr th {\n",
              "        vertical-align: top;\n",
              "    }\n",
              "\n",
              "    .dataframe thead th {\n",
              "        text-align: right;\n",
              "    }\n",
              "</style>\n",
              "<table border=\"1\" class=\"dataframe\">\n",
              "  <thead>\n",
              "    <tr style=\"text-align: right;\">\n",
              "      <th></th>\n",
              "      <th>example_id</th>\n",
              "      <th>query</th>\n",
              "      <th>product_id</th>\n",
              "      <th>esci_label</th>\n",
              "      <th>product_text</th>\n",
              "      <th>query_product_text</th>\n",
              "      <th>length_query_product_text</th>\n",
              "    </tr>\n",
              "  </thead>\n",
              "  <tbody>\n",
              "    <tr>\n",
              "      <th>339928</th>\n",
              "      <td>589649</td>\n",
              "      <td>elit sock</td>\n",
              "      <td>B07TBT7CBK</td>\n",
              "      <td>exact</td>\n",
              "      <td>basketbal sock men outdoor athlet crew sock cu...</td>\n",
              "      <td>elit sock basketbal sock men outdoor athlet cr...</td>\n",
              "      <td>933</td>\n",
              "    </tr>\n",
              "    <tr>\n",
              "      <th>583677</th>\n",
              "      <td>833398</td>\n",
              "      <td>litter box dome</td>\n",
              "      <td>B000256ESU</td>\n",
              "      <td>complement</td>\n",
              "      <td>petmat cleanstep litter box liners jumbo 8 cou...</td>\n",
              "      <td>litter box dome petmat cleanstep litter box li...</td>\n",
              "      <td>152</td>\n",
              "    </tr>\n",
              "    <tr>\n",
              "      <th>108018</th>\n",
              "      <td>357739</td>\n",
              "      <td>backpack highschool</td>\n",
              "      <td>B07PF7M6R8</td>\n",
              "      <td>exact</td>\n",
              "      <td>matein high school backpack colleg middl high ...</td>\n",
              "      <td>backpack highschool matein high school backpac...</td>\n",
              "      <td>1419</td>\n",
              "    </tr>\n",
              "    <tr>\n",
              "      <th>808638</th>\n",
              "      <td>1058359</td>\n",
              "      <td>rhineston tower crown</td>\n",
              "      <td>B07D987GJS</td>\n",
              "      <td>exact</td>\n",
              "      <td>fumud silver color baroqu vintag eiffel tower ...</td>\n",
              "      <td>rhineston tower crown fumud silver color baroq...</td>\n",
              "      <td>473</td>\n",
              "    </tr>\n",
              "    <tr>\n",
              "      <th>1141614</th>\n",
              "      <td>1391335</td>\n",
              "      <td>10 frame medium hive box without frame</td>\n",
              "      <td>B0933NYCDZ</td>\n",
              "      <td>exact</td>\n",
              "      <td>top chimney feeder langstroth wooden beehiv ap...</td>\n",
              "      <td>10 frame medium hive box without frame top chi...</td>\n",
              "      <td>481</td>\n",
              "    </tr>\n",
              "  </tbody>\n",
              "</table>\n",
              "</div>\n",
              "      <button class=\"colab-df-convert\" onclick=\"convertToInteractive('df-363ca15a-b76c-4035-990a-b6f014c83896')\"\n",
              "              title=\"Convert this dataframe to an interactive table.\"\n",
              "              style=\"display:none;\">\n",
              "        \n",
              "  <svg xmlns=\"http://www.w3.org/2000/svg\" height=\"24px\"viewBox=\"0 0 24 24\"\n",
              "       width=\"24px\">\n",
              "    <path d=\"M0 0h24v24H0V0z\" fill=\"none\"/>\n",
              "    <path d=\"M18.56 5.44l.94 2.06.94-2.06 2.06-.94-2.06-.94-.94-2.06-.94 2.06-2.06.94zm-11 1L8.5 8.5l.94-2.06 2.06-.94-2.06-.94L8.5 2.5l-.94 2.06-2.06.94zm10 10l.94 2.06.94-2.06 2.06-.94-2.06-.94-.94-2.06-.94 2.06-2.06.94z\"/><path d=\"M17.41 7.96l-1.37-1.37c-.4-.4-.92-.59-1.43-.59-.52 0-1.04.2-1.43.59L10.3 9.45l-7.72 7.72c-.78.78-.78 2.05 0 2.83L4 21.41c.39.39.9.59 1.41.59.51 0 1.02-.2 1.41-.59l7.78-7.78 2.81-2.81c.8-.78.8-2.07 0-2.86zM5.41 20L4 18.59l7.72-7.72 1.47 1.35L5.41 20z\"/>\n",
              "  </svg>\n",
              "      </button>\n",
              "      \n",
              "  <style>\n",
              "    .colab-df-container {\n",
              "      display:flex;\n",
              "      flex-wrap:wrap;\n",
              "      gap: 12px;\n",
              "    }\n",
              "\n",
              "    .colab-df-convert {\n",
              "      background-color: #E8F0FE;\n",
              "      border: none;\n",
              "      border-radius: 50%;\n",
              "      cursor: pointer;\n",
              "      display: none;\n",
              "      fill: #1967D2;\n",
              "      height: 32px;\n",
              "      padding: 0 0 0 0;\n",
              "      width: 32px;\n",
              "    }\n",
              "\n",
              "    .colab-df-convert:hover {\n",
              "      background-color: #E2EBFA;\n",
              "      box-shadow: 0px 1px 2px rgba(60, 64, 67, 0.3), 0px 1px 3px 1px rgba(60, 64, 67, 0.15);\n",
              "      fill: #174EA6;\n",
              "    }\n",
              "\n",
              "    [theme=dark] .colab-df-convert {\n",
              "      background-color: #3B4455;\n",
              "      fill: #D2E3FC;\n",
              "    }\n",
              "\n",
              "    [theme=dark] .colab-df-convert:hover {\n",
              "      background-color: #434B5C;\n",
              "      box-shadow: 0px 1px 3px 1px rgba(0, 0, 0, 0.15);\n",
              "      filter: drop-shadow(0px 1px 2px rgba(0, 0, 0, 0.3));\n",
              "      fill: #FFFFFF;\n",
              "    }\n",
              "  </style>\n",
              "\n",
              "      <script>\n",
              "        const buttonEl =\n",
              "          document.querySelector('#df-363ca15a-b76c-4035-990a-b6f014c83896 button.colab-df-convert');\n",
              "        buttonEl.style.display =\n",
              "          google.colab.kernel.accessAllowed ? 'block' : 'none';\n",
              "\n",
              "        async function convertToInteractive(key) {\n",
              "          const element = document.querySelector('#df-363ca15a-b76c-4035-990a-b6f014c83896');\n",
              "          const dataTable =\n",
              "            await google.colab.kernel.invokeFunction('convertToInteractive',\n",
              "                                                     [key], {});\n",
              "          if (!dataTable) return;\n",
              "\n",
              "          const docLinkHtml = 'Like what you see? Visit the ' +\n",
              "            '<a target=\"_blank\" href=https://colab.research.google.com/notebooks/data_table.ipynb>data table notebook</a>'\n",
              "            + ' to learn more about interactive tables.';\n",
              "          element.innerHTML = '';\n",
              "          dataTable['output_type'] = 'display_data';\n",
              "          await google.colab.output.renderOutput(dataTable, element);\n",
              "          const docLink = document.createElement('div');\n",
              "          docLink.innerHTML = docLinkHtml;\n",
              "          element.appendChild(docLink);\n",
              "        }\n",
              "      </script>\n",
              "    </div>\n",
              "  </div>\n",
              "  "
            ]
          },
          "metadata": {},
          "execution_count": 66
        }
      ]
    },
    {
      "cell_type": "code",
      "source": [
        "plt.figure(figsize=(10, 8))\n",
        "us_train_product_modified_sampe_df[us_train_product_modified_sampe_df.esci_label == 'exact'].length_query_product_text.plot(bins=182, kind='hist', color='red', label='exact', alpha=0.5)\n",
        "us_train_product_modified_sampe_df[us_train_product_modified_sampe_df.esci_label == 'substitute'].length_query_product_text.plot(kind='hist', color='purple', label='substitute', alpha=0.5)\n",
        "us_train_product_modified_sampe_df[us_train_product_modified_sampe_df.esci_label == 'irrelevant'].length_query_product_text.plot(kind='hist', color='yellow', label='irrelevant', alpha=0.5)\n",
        "us_train_product_modified_sampe_df[us_train_product_modified_sampe_df.esci_label == 'complement'].length_query_product_text.plot(kind='hist', color='blue', label='complement', alpha=0.5)\n",
        "plt.legend()\n",
        "plt.xlabel(\"Length\")\n",
        "plt.title(\"Length of the query and the product text\");"
      ],
      "metadata": {
        "id": "C4xrCwZqNbpT",
        "colab": {
          "base_uri": "https://localhost:8080/",
          "height": 513
        },
        "outputId": "b95e4c1b-5655-402a-be71-14bc33b66eb4"
      },
      "execution_count": 88,
      "outputs": [
        {
          "output_type": "display_data",
          "data": {
            "text/plain": [
              "<Figure size 720x576 with 1 Axes>"
            ],
            "image/png": "[encoded data removed]"
          },
          "metadata": {
            "needs_background": "light"
          }
        }
      ]
    },
    {
      "cell_type": "code",
      "source": [
        "us_train_product_modified_sampe_df.hist(column='length_query_product_text', by='esci_label', bins=182,figsize=(10,10));"
      ],
      "metadata": {
        "id": "Fe06AzHTN89s",
        "colab": {
          "base_uri": "https://localhost:8080/",
          "height": 619
        },
        "outputId": "8ade3dab-2a0f-40c2-ff8e-69a28a161726"
      },
      "execution_count": 89,
      "outputs": [
        {
          "output_type": "display_data",
          "data": {
            "text/plain": [
              "<Figure size 720x720 with 4 Axes>"
            ],
            "image/png": "[encoded data removed]"
          },
          "metadata": {
            "needs_background": "light"
          }
        }
      ]
    },
    {
      "cell_type": "markdown",
      "source": [
        "# Text Representation"
      ],
      "metadata": {
        "id": "JYY23g-JOFBc"
      }
    },
    {
      "cell_type": "markdown",
      "source": [
        "**Tf-idf**"
      ],
      "metadata": {
        "id": "zMkeNtynPByV"
      }
    },
    {
      "cell_type": "markdown",
      "source": [
        "Vectorizating features"
      ],
      "metadata": {
        "id": "t1bXn-kasXXe"
      }
    },
    {
      "cell_type": "code",
      "source": [
        "MAX_FEAT_DESCP = 5000\n",
        "trans = ColumnTransformer( [ ('query_trans',TfidfVectorizer(max_features = MAX_FEAT_DESCP, stop_words='english', ngram_range=(1,3)),'query'),('product_text_trans',TfidfVectorizer(max_features = MAX_FEAT_DESCP, stop_words='english', ngram_range=(1,3)),'product_text') ],remainder='drop')\n",
        "\n",
        "us_train_product_modified_sampe_tranformed_df = trans.fit_transform(us_train_product_modified_sampe_df)"
      ],
      "metadata": {
        "id": "OFol853MPFPe"
      },
      "execution_count": 57,
      "outputs": []
    },
    {
      "cell_type": "markdown",
      "source": [
        "Split training and test data"
      ],
      "metadata": {
        "id": "-Fwv_UBOsgJN"
      }
    },
    {
      "cell_type": "code",
      "source": [
        "from sklearn.model_selection import train_test_split\n",
        "\n",
        "X_train, X_test, y_train, y_test = train_test_split(us_train_product_modified_sampe_tranformed_df, us_train_product_modified_sampe_df['esci_label'], train_size=0.8, random_state=43)"
      ],
      "metadata": {
        "id": "qbudRtUePTCs"
      },
      "execution_count": 58,
      "outputs": []
    },
    {
      "cell_type": "markdown",
      "source": [
        "Target label encoding"
      ],
      "metadata": {
        "id": "-_0iOcmssjel"
      }
    },
    {
      "cell_type": "code",
      "source": [
        "from sklearn import preprocessing\n",
        "tgt_enc = preprocessing.LabelEncoder()\n",
        "\n",
        "# Train\n",
        "# fit your targets of the training data to the LabelEncoder instance\n",
        "tgt_enc.fit(y_train)\n",
        "\n",
        "# encode the targets as numerical labels\n",
        "y_train = tgt_enc.transform(y_train)\n",
        "\n",
        "#Test\n",
        "# fit your targets of the training data to the LabelEncoder instance\n",
        "tgt_enc_test = preprocessing.LabelEncoder()\n",
        "\n",
        "tgt_enc_test.fit(y_test)\n",
        "\n",
        "# encode the targets as numerical labels\n",
        "y_test = tgt_enc_test.transform(y_test)"
      ],
      "metadata": {
        "id": "pjFw7vfuiqKF"
      },
      "execution_count": 59,
      "outputs": []
    },
    {
      "cell_type": "markdown",
      "source": [
        "Model Training"
      ],
      "metadata": {
        "id": "KspKbAONsQda"
      }
    },
    {
      "cell_type": "code",
      "source": [
        "random_forest = RandomForestClassifier()\n",
        "\n",
        "random_forest.fit(X_train, y_train)"
      ],
      "metadata": {
        "id": "D-Cvcl0SPLAd",
        "colab": {
          "base_uri": "https://localhost:8080/"
        },
        "outputId": "0c6ee093-b8bb-413c-84c8-f19d3cb8f8e4"
      },
      "execution_count": 60,
      "outputs": [
        {
          "output_type": "execute_result",
          "data": {
            "text/plain": [
              "RandomForestClassifier()"
            ]
          },
          "metadata": {},
          "execution_count": 60
        }
      ]
    },
    {
      "cell_type": "code",
      "source": [
        "y_pred = random_forest.predict(X_test)"
      ],
      "metadata": {
        "id": "1e0LLT7zPfik"
      },
      "execution_count": 61,
      "outputs": []
    },
    {
      "cell_type": "markdown",
      "source": [
        "Model Evaluation"
      ],
      "metadata": {
        "id": "3K1D-UnXrp31"
      }
    },
    {
      "cell_type": "code",
      "source": [
        "from sklearn.metrics import accuracy_score as acc\n",
        "\n",
        "accuracy_td_idf = acc(y_test, y_pred)\n",
        "print(\"Micro F1 Score Accuracy for TF-IDF trained on random forest model: \", accuracy_td_idf)"
      ],
      "metadata": {
        "colab": {
          "base_uri": "https://localhost:8080/"
        },
        "id": "lQu699mOsAqN",
        "outputId": "9b5ad103-ad55-4988-a9b7-74c3a9e5b6cd"
      },
      "execution_count": 64,
      "outputs": [
        {
          "output_type": "stream",
          "name": "stdout",
          "text": [
            "Micro F1 Score Accuracy for TF-IDF trained on random forest model:  0.6809659517024149\n"
          ]
        }
      ]
    },
    {
      "cell_type": "markdown",
      "source": [
        "**Universal Sentence Encoder**"
      ],
      "metadata": {
        "id": "8KraIMSUPvkD"
      }
    },
    {
      "cell_type": "markdown",
      "source": [
        "Loading the model"
      ],
      "metadata": {
        "id": "NBkBAkY8sqwU"
      }
    },
    {
      "cell_type": "code",
      "source": [
        "use_encoder = hub.load(\"https://tfhub.dev/google/universal-sentence-encoder-multilingual/3\")"
      ],
      "metadata": {
        "id": "WNysKMxnPzUc"
      },
      "execution_count": 72,
      "outputs": []
    },
    {
      "cell_type": "markdown",
      "source": [
        "Split training and test data"
      ],
      "metadata": {
        "id": "Hntt6Q7asvLr"
      }
    },
    {
      "cell_type": "code",
      "source": [
        "#\n",
        "from sklearn.model_selection import train_test_split\n",
        "\n",
        "X_train, X_test, y_train, y_test = train_test_split(us_train_product_modified_sampe_df.query_product_text, us_train_product_modified_sampe_df['esci_label'], train_size=0.8, random_state=43)"
      ],
      "metadata": {
        "id": "NTtDG6SiP2Wt"
      },
      "execution_count": 73,
      "outputs": []
    },
    {
      "cell_type": "code",
      "source": [
        "# split the training data into 500 batches of array split\n",
        "l_train = [use_encoder(i) for i in np.array_split(X_train, 500)]\n",
        "X_train_embedding = tf.concat(l_train, axis=0)\n",
        "del l_train\n",
        "\n",
        "# split the testing data into 500 batches of array split\n",
        "l_test = [use_encoder(i) for i in np.array_split(X_test, 500)]\n",
        "X_test_embedding = tf.concat(l_test, axis=0)\n",
        "del l_test"
      ],
      "metadata": {
        "id": "5MOLURIOP56h"
      },
      "execution_count": 74,
      "outputs": []
    },
    {
      "cell_type": "markdown",
      "source": [
        "Target label encoding"
      ],
      "metadata": {
        "id": "ji38pXlu_-IL"
      }
    },
    {
      "cell_type": "code",
      "source": [
        "from sklearn import preprocessing\n",
        "tgt_enc = preprocessing.LabelEncoder()\n",
        "\n",
        "# Train\n",
        "# fit your targets of the training data to the LabelEncoder instance\n",
        "tgt_enc.fit(y_train)\n",
        "\n",
        "# encode the targets as numerical labels\n",
        "y_train = tgt_enc.transform(y_train)\n",
        "\n",
        "#Test\n",
        "# fit your targets of the training data to the LabelEncoder instance\n",
        "tgt_enc_test = preprocessing.LabelEncoder()\n",
        "\n",
        "tgt_enc_test.fit(y_test)\n",
        "\n",
        "# encode the targets as numerical labels\n",
        "y_test = tgt_enc_test.transform(y_test)"
      ],
      "metadata": {
        "id": "j1MpqXra_-IM"
      },
      "execution_count": null,
      "outputs": []
    },
    {
      "cell_type": "markdown",
      "source": [
        "Model training"
      ],
      "metadata": {
        "id": "3M2sLSlJs3mp"
      }
    },
    {
      "cell_type": "code",
      "source": [
        "random_forest = RandomForestClassifier()\n",
        "\n",
        "random_forest.fit(X_train_embedding, y_train)"
      ],
      "metadata": {
        "id": "l2SZ-ArgR2jX",
        "colab": {
          "base_uri": "https://localhost:8080/"
        },
        "outputId": "6001ba66-9b55-49f9-fe6b-4442d4088816"
      },
      "execution_count": 75,
      "outputs": [
        {
          "output_type": "execute_result",
          "data": {
            "text/plain": [
              "RandomForestClassifier()"
            ]
          },
          "metadata": {},
          "execution_count": 75
        }
      ]
    },
    {
      "cell_type": "code",
      "source": [
        "y_pred_embedded = random_forest.predict(X_test_embedding)"
      ],
      "metadata": {
        "id": "nwkGQnbNR4b6"
      },
      "execution_count": 76,
      "outputs": []
    },
    {
      "cell_type": "markdown",
      "source": [
        "Model Evaluation"
      ],
      "metadata": {
        "id": "w7Mf6xFes77a"
      }
    },
    {
      "cell_type": "code",
      "source": [
        "from sklearn.metrics import accuracy_score as acc\n",
        "\n",
        "acc_use = acc(y_test, y_pred_embedded)\n",
        "print(\"Micro F1 Score Accuracy for Universal Sentence encoding trained on random forest: \", accuracy_td_idf)"
      ],
      "metadata": {
        "colab": {
          "base_uri": "https://localhost:8080/"
        },
        "id": "oBtg4Msur2bj",
        "outputId": "25b68732-210f-4c34-ce7d-6b7ad66d453e"
      },
      "execution_count": 77,
      "outputs": [
        {
          "output_type": "stream",
          "name": "stdout",
          "text": [
            "Micro F1 Score Accuracy for Universal Sentence encoding trained on random forest:  0.6809659517024149\n"
          ]
        }
      ]
    }
  ]
}